{
  "nbformat": 4,
  "nbformat_minor": 0,
  "metadata": {
    "colab": {
      "name": " Bootcamp_Datascience_2  - MODULO 3-PROJETO - PARTE 1.ipynb",
      "provenance": [],
      "collapsed_sections": [
        "NCYqmzkbkNVq"
      ],
      "mount_file_id": "1AUkgLzHrnZaVQEP6glJpNukolC79vGoR",
      "authorship_tag": "ABX9TyNE0iRO9tFudleciHB9S66z",
      "include_colab_link": true
    },
    "kernelspec": {
      "name": "python3",
      "display_name": "Python 3"
    },
    "language_info": {
      "name": "python"
    }
  },
  "cells": [
    {
      "cell_type": "markdown",
      "metadata": {
        "id": "view-in-github",
        "colab_type": "text"
      },
      "source": [
        "<a href=\"https://colab.research.google.com/github/Glaudemias/Projeto_COVID_Sertao_CENTRAL/blob/main/Notebooks/PROJETO_PARTE_1.ipynb\" target=\"_parent\"><img src=\"https://colab.research.google.com/assets/colab-badge.svg\" alt=\"Open In Colab\"/></a>"
      ]
    },
    {
      "cell_type": "markdown",
      "metadata": {
        "id": "ruPTAw2daeR2"
      },
      "source": [
        "# **PROJETO MÓDULO 3 - BOOTCAMP DATASCIENCE APLICADO 2 - PARTE 1**\n",
        "---\n",
        "## Análise e Previsão de Séries Temporais dos dados de Covid-19 no Sertão Central, CE"
      ]
    },
    {
      "cell_type": "markdown",
      "metadata": {
        "id": "0skhQR-HLghA"
      },
      "source": [
        "Nesse Notebook será realizado a limpeza e tratamento da base de dados obtida pelo portal Corona Virús Brasil, você pode acessa-lo clicando [aqui:](https://covid.saude.gov.br/)"
      ]
    },
    {
      "cell_type": "markdown",
      "metadata": {
        "id": "jA-Cpag4agDU"
      },
      "source": [
        "# **IMPORTAÇÃO DAS BIBLIOTECAS**"
      ]
    },
    {
      "cell_type": "markdown",
      "metadata": {
        "id": "zS8S13OaN2lh"
      },
      "source": [
        "Bibliotecas Básicas"
      ]
    },
    {
      "cell_type": "code",
      "metadata": {
        "id": "qzSPzBw8Z9s2"
      },
      "source": [
        "#Biblioteca de tratamento de dados\n",
        "import pandas as pd\n",
        "\n",
        "#Biblioteca que retira os avisos de erro\n",
        "import warnings\n",
        "warnings.filterwarnings('ignore')"
      ],
      "execution_count": null,
      "outputs": []
    },
    {
      "cell_type": "markdown",
      "metadata": {
        "id": "viuLNJ-xbG5x"
      },
      "source": [
        "Instalando o Geopandas!"
      ]
    },
    {
      "cell_type": "code",
      "metadata": {
        "id": "iR-1r88_bFQD"
      },
      "source": [
        "#Instalação\n",
        "!!pip install geopandas\n",
        "\n",
        "#Biblioteca responsável pela visualização de dados espaciais do tipo shapefile\n",
        "import geopandas as gpd\n",
        "from geopandas import GeoDataFrame"
      ],
      "execution_count": null,
      "outputs": []
    },
    {
      "cell_type": "markdown",
      "metadata": {
        "id": "AlZfHzrskCVo"
      },
      "source": [
        "Biblioteca de exportação de arquivos tratados"
      ]
    },
    {
      "cell_type": "code",
      "metadata": {
        "id": "unwAnWSUkGKH"
      },
      "source": [
        "from google.colab import files"
      ],
      "execution_count": null,
      "outputs": []
    },
    {
      "cell_type": "markdown",
      "metadata": {
        "id": "7dCQ-n2hf5pq"
      },
      "source": [
        "**Criando Funções**"
      ]
    },
    {
      "cell_type": "code",
      "metadata": {
        "id": "xNjJxL_ydi37"
      },
      "source": [
        "def filtraestado(dataframe, coluna,estado):\n",
        "  dataframe = dataframe[dataframe[coluna]==estado]\n",
        "  return dataframe"
      ],
      "execution_count": null,
      "outputs": []
    },
    {
      "cell_type": "code",
      "metadata": {
        "id": "i7-mJcoUkQXx"
      },
      "source": [
        "def excluiNA (dataframe,coluna1,coluna2):\n",
        "  filtro = (dataframe[coluna1].notna()) & (dataframe[coluna2].notna())\n",
        "  dataframe = dataframe[filtro]\n",
        "  return dataframe"
      ],
      "execution_count": null,
      "outputs": []
    },
    {
      "cell_type": "code",
      "metadata": {
        "id": "_KAlb_95vIkm"
      },
      "source": [
        "def prepara_mapa(dataframe,coluna):\n",
        "  codigos = []\n",
        "  for cod in dataframe[coluna]:\n",
        "    codigos.append(cod[:-1])\n",
        "  dataframe['codmun'] = codigos\n",
        "  dataframe['id'] = dataframe['ID']\n",
        "  dataframe['cod_IBGE'] = dataframe['CD_GEOCODM']\n",
        "  dataframe = dataframe.drop(columns = ['ID','CD_GEOCODM','NM_MUNICIP'])\n",
        "  dataframe['codmun'] = dataframe['codmun'].astype(int)\n",
        "  return dataframe\n"
      ],
      "execution_count": null,
      "outputs": []
    },
    {
      "cell_type": "markdown",
      "metadata": {
        "id": "8uVq2O1eN7ep"
      },
      "source": [
        "**Listas de Regiões**"
      ]
    },
    {
      "cell_type": "code",
      "metadata": {
        "id": "fCuF0dl0K0wF"
      },
      "source": [
        "#Definindo as regiões cearenses\n",
        "\n",
        "cariri = ['Abaiara','Altaneira','Antonina do Norte', 'Araripe', 'Assaré','Aurora','Barbalha','Barro', \n",
        "          'Brejo Santo', 'Campos Sales', 'Caririaçu', 'Crato', 'Farias Brito','Granjeiro', 'Jardim', 'Jati','Juazeiro do Norte', 'Lavras da Mangabeira', \n",
        "           'Mauriti', 'Milagres', 'Missão Velha', 'Nova Olinda', 'Penaforte', 'Porteiras', 'Potengi', 'Salitre', 'Santana do Cariri','Tarrafas','Várzea Alegre']\n",
        "\n",
        "centro_sul=['Acopiara', 'Baixio', 'Cariús', 'Catarina', 'Cedro', 'Icó', 'Iguatu','Ipaumirim', 'Jucás', 'Orós', 'Quixelô', 'Saboeiro','Umari']\n",
        "\n",
        "reg_metro = ['Aquiraz', 'Caucaia', 'Cascavel', 'Chorozinho', 'Eusébio','Fortaleza', 'Guaiúba', 'Horizonte', 'Itaitinga', 'Maracanaú', 'Maranguape', 'Pacajus', 'Pacatuba',\n",
        "           'Paracuru', 'Paraipaba', 'Pindoretama', 'São Luís do Curu', 'São Gonçalo do Amarante', 'Trairi']\n",
        "\n",
        "litoral_leste=['Aracati', 'Beberibe', 'Fortim', 'Icapuí', 'Itaiçaba','Jaguaruana']\n",
        "\n",
        "litoral_norte =['Acaraú', 'Barroquinha', 'Bela Cruz', 'Camocim', 'Chaval', 'Cruz','Granja', 'Itarema', 'Jijoca de Jericoacoara', 'Marco', 'Martinópole', 'Morrinhos','Uruoca']\n",
        "\n",
        "litoral_oeste = ['Amontada', 'Apuiarés', 'General Sampaio','Irauçuba','Itapajé','Itapipoca','Miraíma', 'Pentecoste', 'Tejuçuoca', 'Tururu', 'Umirim','Uruburetama']\n",
        "\n",
        "maciço_baturite = ['Acarape','Aracoiaba','Aratuba', 'Barreira', 'Baturité', 'Capistrano','Guaramiranga', 'Itapiúna', 'Mulungu', 'Ocara', 'Pacoti','Palmácia', 'Redenção']\n",
        "\n",
        "serra_da_ibiapaba = ['Carnaubal', 'Croatá','Guaraciaba do Norte','Ibiapina','Ipu','São Benedito','Tianguá','Ubajara','Viçosa do Ceará']\n",
        "\n",
        "sertao_central = ['Banabuiú', 'Choró','Deputado Irapuan Pinheiro','Ibaretama','Ibicuitinga','Milhã','Mombaça', \n",
        "           'Pedra Branca','Piquet Carneiro','Quixadá', 'Quixeramobim','Senador Pompeu','Solonópole']\n",
        "\n",
        "sertao_canide=['Boa Viagem', 'Canindé', 'Caridade', 'Itatira', 'Madalena', 'Paramoti']\n",
        "\n",
        "sertao_sobral=['Alcântaras', 'Cariré','Coreaú', 'Forquilha','Frecheirinha','Graça','Groaíras','Massapê','Meruoca','Moraújo','Mucambo','Pacujá','Pires Ferreira',\n",
        "          'Reriutaba','Santana do Acaraú','Senador Sá','Sobral','Varjota']\n",
        "\n",
        "sertao_crateus =['Ararendá','Catunda','Crateús','Hidrolândia','Independência','Ipaporanga','Ipueiras','Monsenhor Tabosa','Nova Russas','Novo Oriente', \n",
        "           'Poranga','Santa Quitéria','Tamboril']\n",
        "\n",
        "sertao_inhamu = ['Aiuaba','Arneiroz','Parambu','Quiterianópolis','Tauá']\n",
        "\n",
        "vale_do_jaguaribe=['Alto Santo','Ererê','Iracema','Jaguaretama','Jaguaribara','Jaguaribe','Limoeiro do Norte','Morada Nova','Palhano', \n",
        "           'Pereiro','Potiretama','Quixeré','Russas','São João do Jaguaribe','Tabuleiro do Norte', 'Ererê','Ereré']\n"
      ],
      "execution_count": null,
      "outputs": []
    },
    {
      "cell_type": "code",
      "metadata": {
        "id": "SGJnfmkjPhUz"
      },
      "source": [
        "#função de regiao\n",
        "def regiao(item):\n",
        "  if item in cariri:\n",
        "    return 'Cariri'\n",
        "  if item in centro_sul:\n",
        "    return 'Centro-Sul'\n",
        "  if item in reg_metro:\n",
        "    return 'Região Metropolitana'\n",
        "  if item in litoral_leste:\n",
        "    return 'Litoral Leste'\n",
        "  if item in litoral_norte:\n",
        "    return 'Litoral Norte'\n",
        "  if item in litoral_oeste:\n",
        "    return 'Litoral Oeste'\n",
        "  if item in maciço_baturite:\n",
        "    return 'Maciço de Baturité'\n",
        "  if item in serra_da_ibiapaba:\n",
        "    return 'Serra da Ibiapaba'\n",
        "  if item in sertao_central:\n",
        "    return 'Sertão Central'\n",
        "  if item in sertao_canide:\n",
        "    return 'Sertão de Canidé'\n",
        "  if item in sertao_sobral:\n",
        "    return 'Sertão de Sobral'\n",
        "  if item in sertao_crateus:\n",
        "    return 'Sertao dos Crateús'\n",
        "  if item in sertao_inhamu:\n",
        "    return 'Sertão dos Inhamus'\n",
        "  if item in vale_do_jaguaribe:\n",
        "    return 'Vale do Jaguaribe'\n",
        "  else:\n",
        "    return 'não identificado'"
      ],
      "execution_count": null,
      "outputs": []
    },
    {
      "cell_type": "markdown",
      "metadata": {
        "id": "TQPjh-9rcOZj"
      },
      "source": [
        "# **TRATANDO OS DATASETS**"
      ]
    },
    {
      "cell_type": "markdown",
      "metadata": {
        "id": "OSbppbFROKEn"
      },
      "source": [
        "A Base de dados assim que baixada do site oficial, vem comprimida num arquivo zip e é dividida em 3 partes.\n",
        "\n",
        "Eles possuem as seguintes informações:\n",
        "\n",
        "* **região:** Contém as regiões do país e ainda os números somados que são relativos ao país, seus valores são: *Brasil, Norte, Nordeste, Sul, Sudeste e Centro-Oeste*. \n",
        "\n",
        "* **estado:** Contém as Unidades Federativas do país, possuindo valores NAN quando a linha for relativa a Região classificada como Brasil, seus valores são as 27 unidades da federação.\n",
        "\n",
        "* **municipio:** Contém o nome de todos os municipios do país e possui valor NAN quando a linha for relativa classificada como Brasil.\n",
        "\n",
        "* **coduf:** Código da Unidade federativa, esses códigos são utilizados na emissão de Documentos Fiscais Eletrônicos (NFC-e, NF-e, CT-e, MDF-e e CF-e).\n",
        "\n",
        "* **codmun:** Código dos municipios referente aos valores de identificação do IBGE.\n",
        "\n",
        ">> **Campos de Região de Saúde**\n",
        "As regiões de Saúde são consideradas um espaço geográfico contínuo constituído por agrupamentos de municípios limítrofes, delimitado a partir de identidades culturais, econômicas e sociais e de redes de comunicação e infraestrutura de transportes compartilhados, com a finalidade de integrar a organização, o planejamento e a execução de ações e serviços de saúde.\n",
        "\n",
        "* **codRegiaoSaude:**  Código de identificação de cada Região de Saúde\n",
        "\n",
        "* **nomeRegiaoSaude:** Nome de cada Região de Saúde.\n",
        "\n",
        "* **data:** Data relativa ao caso novo, notificado.\n",
        "\n",
        "* **semanaEpi:** Semana Epidemológica referente a notificação\n",
        "\n",
        "* **populacaoTCU2019:** Indica a população estimada de 2019 utilizada pelo TCU de onde foi registrada a observação.\n",
        "\n",
        "* **casosAcumulado:** Indica o total de casos acumulados em uma data especifica.\n",
        "\n",
        "* **casosNovos:** Número de casos novos notificados em uma data especifica\n",
        "\n",
        "* **obitosAcumulado:** Indica o total de obitos acumulados em uma data especifica.\n",
        "\n",
        "* **obitosNovos:** Número de obitos novos notificados em uma data especifica\n",
        "\n",
        "* **Recuperadosnovos:** Número de obitos novos notificados em uma data especifica\n",
        "\n",
        "* **emAcompanhamentoNovos:** Número de casos em acompanhamento notificados em uma data especifica\n",
        "\n",
        "* **interior/metropolitana:** Indica onde a observação foi registrada na região do estado, se no interior (valor 0) ou na região metropolitana (valor 1)\n"
      ]
    },
    {
      "cell_type": "markdown",
      "metadata": {
        "id": "m719gCYJjVKK"
      },
      "source": [
        "## DATAFRAME CASOS CE"
      ]
    },
    {
      "cell_type": "code",
      "metadata": {
        "colab": {
          "base_uri": "https://localhost:8080/",
          "height": 308
        },
        "id": "-ADyNjAIc4-B",
        "outputId": "0eb9f6ac-1251-4375-bf0e-43f1c0f0d38b"
      },
      "source": [
        "#Parte 1\n",
        "dados_brutos1=pd.read_csv('/content/drive/MyDrive/BOOTCAMP - ALURA/Projeto/Arquivos Projeto 3/HIST_PAINEL_COVIDBR_2020_Parte1_25jun2021.csv',sep=';')\n",
        "dados_brutos1.head()"
      ],
      "execution_count": null,
      "outputs": [
        {
          "output_type": "execute_result",
          "data": {
            "text/html": [
              "<div>\n",
              "<style scoped>\n",
              "    .dataframe tbody tr th:only-of-type {\n",
              "        vertical-align: middle;\n",
              "    }\n",
              "\n",
              "    .dataframe tbody tr th {\n",
              "        vertical-align: top;\n",
              "    }\n",
              "\n",
              "    .dataframe thead th {\n",
              "        text-align: right;\n",
              "    }\n",
              "</style>\n",
              "<table border=\"1\" class=\"dataframe\">\n",
              "  <thead>\n",
              "    <tr style=\"text-align: right;\">\n",
              "      <th></th>\n",
              "      <th>regiao</th>\n",
              "      <th>estado</th>\n",
              "      <th>municipio</th>\n",
              "      <th>coduf</th>\n",
              "      <th>codmun</th>\n",
              "      <th>codRegiaoSaude</th>\n",
              "      <th>nomeRegiaoSaude</th>\n",
              "      <th>data</th>\n",
              "      <th>semanaEpi</th>\n",
              "      <th>populacaoTCU2019</th>\n",
              "      <th>casosAcumulado</th>\n",
              "      <th>casosNovos</th>\n",
              "      <th>obitosAcumulado</th>\n",
              "      <th>obitosNovos</th>\n",
              "      <th>Recuperadosnovos</th>\n",
              "      <th>emAcompanhamentoNovos</th>\n",
              "      <th>interior/metropolitana</th>\n",
              "    </tr>\n",
              "  </thead>\n",
              "  <tbody>\n",
              "    <tr>\n",
              "      <th>0</th>\n",
              "      <td>Brasil</td>\n",
              "      <td>NaN</td>\n",
              "      <td>NaN</td>\n",
              "      <td>76</td>\n",
              "      <td>NaN</td>\n",
              "      <td>NaN</td>\n",
              "      <td>NaN</td>\n",
              "      <td>2020-02-25</td>\n",
              "      <td>9</td>\n",
              "      <td>210147125.0</td>\n",
              "      <td>0</td>\n",
              "      <td>0</td>\n",
              "      <td>0</td>\n",
              "      <td>0</td>\n",
              "      <td>NaN</td>\n",
              "      <td>NaN</td>\n",
              "      <td>NaN</td>\n",
              "    </tr>\n",
              "    <tr>\n",
              "      <th>1</th>\n",
              "      <td>Brasil</td>\n",
              "      <td>NaN</td>\n",
              "      <td>NaN</td>\n",
              "      <td>76</td>\n",
              "      <td>NaN</td>\n",
              "      <td>NaN</td>\n",
              "      <td>NaN</td>\n",
              "      <td>2020-02-26</td>\n",
              "      <td>9</td>\n",
              "      <td>210147125.0</td>\n",
              "      <td>1</td>\n",
              "      <td>1</td>\n",
              "      <td>0</td>\n",
              "      <td>0</td>\n",
              "      <td>NaN</td>\n",
              "      <td>NaN</td>\n",
              "      <td>NaN</td>\n",
              "    </tr>\n",
              "    <tr>\n",
              "      <th>2</th>\n",
              "      <td>Brasil</td>\n",
              "      <td>NaN</td>\n",
              "      <td>NaN</td>\n",
              "      <td>76</td>\n",
              "      <td>NaN</td>\n",
              "      <td>NaN</td>\n",
              "      <td>NaN</td>\n",
              "      <td>2020-02-27</td>\n",
              "      <td>9</td>\n",
              "      <td>210147125.0</td>\n",
              "      <td>1</td>\n",
              "      <td>0</td>\n",
              "      <td>0</td>\n",
              "      <td>0</td>\n",
              "      <td>NaN</td>\n",
              "      <td>NaN</td>\n",
              "      <td>NaN</td>\n",
              "    </tr>\n",
              "    <tr>\n",
              "      <th>3</th>\n",
              "      <td>Brasil</td>\n",
              "      <td>NaN</td>\n",
              "      <td>NaN</td>\n",
              "      <td>76</td>\n",
              "      <td>NaN</td>\n",
              "      <td>NaN</td>\n",
              "      <td>NaN</td>\n",
              "      <td>2020-02-28</td>\n",
              "      <td>9</td>\n",
              "      <td>210147125.0</td>\n",
              "      <td>1</td>\n",
              "      <td>0</td>\n",
              "      <td>0</td>\n",
              "      <td>0</td>\n",
              "      <td>NaN</td>\n",
              "      <td>NaN</td>\n",
              "      <td>NaN</td>\n",
              "    </tr>\n",
              "    <tr>\n",
              "      <th>4</th>\n",
              "      <td>Brasil</td>\n",
              "      <td>NaN</td>\n",
              "      <td>NaN</td>\n",
              "      <td>76</td>\n",
              "      <td>NaN</td>\n",
              "      <td>NaN</td>\n",
              "      <td>NaN</td>\n",
              "      <td>2020-02-29</td>\n",
              "      <td>9</td>\n",
              "      <td>210147125.0</td>\n",
              "      <td>2</td>\n",
              "      <td>1</td>\n",
              "      <td>0</td>\n",
              "      <td>0</td>\n",
              "      <td>NaN</td>\n",
              "      <td>NaN</td>\n",
              "      <td>NaN</td>\n",
              "    </tr>\n",
              "  </tbody>\n",
              "</table>\n",
              "</div>"
            ],
            "text/plain": [
              "   regiao estado  ... emAcompanhamentoNovos  interior/metropolitana\n",
              "0  Brasil    NaN  ...                   NaN                     NaN\n",
              "1  Brasil    NaN  ...                   NaN                     NaN\n",
              "2  Brasil    NaN  ...                   NaN                     NaN\n",
              "3  Brasil    NaN  ...                   NaN                     NaN\n",
              "4  Brasil    NaN  ...                   NaN                     NaN\n",
              "\n",
              "[5 rows x 17 columns]"
            ]
          },
          "metadata": {
            "tags": []
          },
          "execution_count": 9
        }
      ]
    },
    {
      "cell_type": "code",
      "metadata": {
        "colab": {
          "base_uri": "https://localhost:8080/",
          "height": 289
        },
        "id": "GEpijQU7c_3j",
        "outputId": "012b8dee-30c9-429e-b948-58914b4f9685"
      },
      "source": [
        "#Parte 2\n",
        "dados_brutos2=pd.read_csv('/content/drive/MyDrive/BOOTCAMP - ALURA/Projeto/Arquivos Projeto 3/HIST_PAINEL_COVIDBR_2020_Parte2_25jun2021.csv',sep=';')\n",
        "dados_brutos2.head()"
      ],
      "execution_count": null,
      "outputs": [
        {
          "output_type": "execute_result",
          "data": {
            "text/html": [
              "<div>\n",
              "<style scoped>\n",
              "    .dataframe tbody tr th:only-of-type {\n",
              "        vertical-align: middle;\n",
              "    }\n",
              "\n",
              "    .dataframe tbody tr th {\n",
              "        vertical-align: top;\n",
              "    }\n",
              "\n",
              "    .dataframe thead th {\n",
              "        text-align: right;\n",
              "    }\n",
              "</style>\n",
              "<table border=\"1\" class=\"dataframe\">\n",
              "  <thead>\n",
              "    <tr style=\"text-align: right;\">\n",
              "      <th></th>\n",
              "      <th>regiao</th>\n",
              "      <th>estado</th>\n",
              "      <th>municipio</th>\n",
              "      <th>coduf</th>\n",
              "      <th>codmun</th>\n",
              "      <th>codRegiaoSaude</th>\n",
              "      <th>nomeRegiaoSaude</th>\n",
              "      <th>data</th>\n",
              "      <th>semanaEpi</th>\n",
              "      <th>populacaoTCU2019</th>\n",
              "      <th>casosAcumulado</th>\n",
              "      <th>casosNovos</th>\n",
              "      <th>obitosAcumulado</th>\n",
              "      <th>obitosNovos</th>\n",
              "      <th>Recuperadosnovos</th>\n",
              "      <th>emAcompanhamentoNovos</th>\n",
              "      <th>interior/metropolitana</th>\n",
              "    </tr>\n",
              "  </thead>\n",
              "  <tbody>\n",
              "    <tr>\n",
              "      <th>0</th>\n",
              "      <td>Brasil</td>\n",
              "      <td>NaN</td>\n",
              "      <td>NaN</td>\n",
              "      <td>76</td>\n",
              "      <td>NaN</td>\n",
              "      <td>NaN</td>\n",
              "      <td>NaN</td>\n",
              "      <td>2020-08-01</td>\n",
              "      <td>31</td>\n",
              "      <td>210147125.0</td>\n",
              "      <td>2707877</td>\n",
              "      <td>45392</td>\n",
              "      <td>93563</td>\n",
              "      <td>1088</td>\n",
              "      <td>1865729.0</td>\n",
              "      <td>748585.0</td>\n",
              "      <td>NaN</td>\n",
              "    </tr>\n",
              "    <tr>\n",
              "      <th>1</th>\n",
              "      <td>Brasil</td>\n",
              "      <td>NaN</td>\n",
              "      <td>NaN</td>\n",
              "      <td>76</td>\n",
              "      <td>NaN</td>\n",
              "      <td>NaN</td>\n",
              "      <td>NaN</td>\n",
              "      <td>2020-08-02</td>\n",
              "      <td>32</td>\n",
              "      <td>210147125.0</td>\n",
              "      <td>2733677</td>\n",
              "      <td>25800</td>\n",
              "      <td>94104</td>\n",
              "      <td>541</td>\n",
              "      <td>1883677.0</td>\n",
              "      <td>755896.0</td>\n",
              "      <td>NaN</td>\n",
              "    </tr>\n",
              "    <tr>\n",
              "      <th>2</th>\n",
              "      <td>Brasil</td>\n",
              "      <td>NaN</td>\n",
              "      <td>NaN</td>\n",
              "      <td>76</td>\n",
              "      <td>NaN</td>\n",
              "      <td>NaN</td>\n",
              "      <td>NaN</td>\n",
              "      <td>2020-08-03</td>\n",
              "      <td>32</td>\n",
              "      <td>210147125.0</td>\n",
              "      <td>2750318</td>\n",
              "      <td>16641</td>\n",
              "      <td>94665</td>\n",
              "      <td>561</td>\n",
              "      <td>1912319.0</td>\n",
              "      <td>743334.0</td>\n",
              "      <td>NaN</td>\n",
              "    </tr>\n",
              "    <tr>\n",
              "      <th>3</th>\n",
              "      <td>Brasil</td>\n",
              "      <td>NaN</td>\n",
              "      <td>NaN</td>\n",
              "      <td>76</td>\n",
              "      <td>NaN</td>\n",
              "      <td>NaN</td>\n",
              "      <td>NaN</td>\n",
              "      <td>2020-08-04</td>\n",
              "      <td>32</td>\n",
              "      <td>210147125.0</td>\n",
              "      <td>2801921</td>\n",
              "      <td>51603</td>\n",
              "      <td>95819</td>\n",
              "      <td>1154</td>\n",
              "      <td>1970767.0</td>\n",
              "      <td>735335.0</td>\n",
              "      <td>NaN</td>\n",
              "    </tr>\n",
              "    <tr>\n",
              "      <th>4</th>\n",
              "      <td>Brasil</td>\n",
              "      <td>NaN</td>\n",
              "      <td>NaN</td>\n",
              "      <td>76</td>\n",
              "      <td>NaN</td>\n",
              "      <td>NaN</td>\n",
              "      <td>NaN</td>\n",
              "      <td>2020-08-05</td>\n",
              "      <td>32</td>\n",
              "      <td>210147125.0</td>\n",
              "      <td>2857597</td>\n",
              "      <td>55676</td>\n",
              "      <td>97240</td>\n",
              "      <td>1421</td>\n",
              "      <td>2020637.0</td>\n",
              "      <td>741180.0</td>\n",
              "      <td>NaN</td>\n",
              "    </tr>\n",
              "  </tbody>\n",
              "</table>\n",
              "</div>"
            ],
            "text/plain": [
              "   regiao estado  ... emAcompanhamentoNovos  interior/metropolitana\n",
              "0  Brasil    NaN  ...              748585.0                     NaN\n",
              "1  Brasil    NaN  ...              755896.0                     NaN\n",
              "2  Brasil    NaN  ...              743334.0                     NaN\n",
              "3  Brasil    NaN  ...              735335.0                     NaN\n",
              "4  Brasil    NaN  ...              741180.0                     NaN\n",
              "\n",
              "[5 rows x 17 columns]"
            ]
          },
          "metadata": {
            "tags": []
          },
          "execution_count": 9
        }
      ]
    },
    {
      "cell_type": "code",
      "metadata": {
        "colab": {
          "base_uri": "https://localhost:8080/",
          "height": 289
        },
        "id": "8lzNV3jEdTUs",
        "outputId": "6676a572-5d1a-4aa9-c646-7b4285de585a"
      },
      "source": [
        "#Parte 3\n",
        "dados_brutos3=pd.read_csv('/content/drive/MyDrive/BOOTCAMP - ALURA/Projeto/Arquivos Projeto 3/HIST_PAINEL_COVIDBR_Parte3_25jun2021.csv',sep=';')\n",
        "dados_brutos3.head()"
      ],
      "execution_count": null,
      "outputs": [
        {
          "output_type": "execute_result",
          "data": {
            "text/html": [
              "<div>\n",
              "<style scoped>\n",
              "    .dataframe tbody tr th:only-of-type {\n",
              "        vertical-align: middle;\n",
              "    }\n",
              "\n",
              "    .dataframe tbody tr th {\n",
              "        vertical-align: top;\n",
              "    }\n",
              "\n",
              "    .dataframe thead th {\n",
              "        text-align: right;\n",
              "    }\n",
              "</style>\n",
              "<table border=\"1\" class=\"dataframe\">\n",
              "  <thead>\n",
              "    <tr style=\"text-align: right;\">\n",
              "      <th></th>\n",
              "      <th>regiao</th>\n",
              "      <th>estado</th>\n",
              "      <th>municipio</th>\n",
              "      <th>coduf</th>\n",
              "      <th>codmun</th>\n",
              "      <th>codRegiaoSaude</th>\n",
              "      <th>nomeRegiaoSaude</th>\n",
              "      <th>data</th>\n",
              "      <th>semanaEpi</th>\n",
              "      <th>populacaoTCU2019</th>\n",
              "      <th>casosAcumulado</th>\n",
              "      <th>casosNovos</th>\n",
              "      <th>obitosAcumulado</th>\n",
              "      <th>obitosNovos</th>\n",
              "      <th>Recuperadosnovos</th>\n",
              "      <th>emAcompanhamentoNovos</th>\n",
              "      <th>interior/metropolitana</th>\n",
              "    </tr>\n",
              "  </thead>\n",
              "  <tbody>\n",
              "    <tr>\n",
              "      <th>0</th>\n",
              "      <td>Brasil</td>\n",
              "      <td>NaN</td>\n",
              "      <td>NaN</td>\n",
              "      <td>76</td>\n",
              "      <td>NaN</td>\n",
              "      <td>NaN</td>\n",
              "      <td>NaN</td>\n",
              "      <td>2021-01-01</td>\n",
              "      <td>53</td>\n",
              "      <td>210147125.0</td>\n",
              "      <td>7700578.0</td>\n",
              "      <td>24605</td>\n",
              "      <td>195411</td>\n",
              "      <td>462</td>\n",
              "      <td>6756284.0</td>\n",
              "      <td>748883.0</td>\n",
              "      <td>NaN</td>\n",
              "    </tr>\n",
              "    <tr>\n",
              "      <th>1</th>\n",
              "      <td>Brasil</td>\n",
              "      <td>NaN</td>\n",
              "      <td>NaN</td>\n",
              "      <td>76</td>\n",
              "      <td>NaN</td>\n",
              "      <td>NaN</td>\n",
              "      <td>NaN</td>\n",
              "      <td>2021-01-02</td>\n",
              "      <td>53</td>\n",
              "      <td>210147125.0</td>\n",
              "      <td>7716405.0</td>\n",
              "      <td>15827</td>\n",
              "      <td>195725</td>\n",
              "      <td>314</td>\n",
              "      <td>6769420.0</td>\n",
              "      <td>751260.0</td>\n",
              "      <td>NaN</td>\n",
              "    </tr>\n",
              "    <tr>\n",
              "      <th>2</th>\n",
              "      <td>Brasil</td>\n",
              "      <td>NaN</td>\n",
              "      <td>NaN</td>\n",
              "      <td>76</td>\n",
              "      <td>NaN</td>\n",
              "      <td>NaN</td>\n",
              "      <td>NaN</td>\n",
              "      <td>2021-01-03</td>\n",
              "      <td>1</td>\n",
              "      <td>210147125.0</td>\n",
              "      <td>7733746.0</td>\n",
              "      <td>17341</td>\n",
              "      <td>196018</td>\n",
              "      <td>293</td>\n",
              "      <td>6813008.0</td>\n",
              "      <td>724720.0</td>\n",
              "      <td>NaN</td>\n",
              "    </tr>\n",
              "    <tr>\n",
              "      <th>3</th>\n",
              "      <td>Brasil</td>\n",
              "      <td>NaN</td>\n",
              "      <td>NaN</td>\n",
              "      <td>76</td>\n",
              "      <td>NaN</td>\n",
              "      <td>NaN</td>\n",
              "      <td>NaN</td>\n",
              "      <td>2021-01-04</td>\n",
              "      <td>1</td>\n",
              "      <td>210147125.0</td>\n",
              "      <td>7753752.0</td>\n",
              "      <td>20006</td>\n",
              "      <td>196561</td>\n",
              "      <td>543</td>\n",
              "      <td>6875230.0</td>\n",
              "      <td>681961.0</td>\n",
              "      <td>NaN</td>\n",
              "    </tr>\n",
              "    <tr>\n",
              "      <th>4</th>\n",
              "      <td>Brasil</td>\n",
              "      <td>NaN</td>\n",
              "      <td>NaN</td>\n",
              "      <td>76</td>\n",
              "      <td>NaN</td>\n",
              "      <td>NaN</td>\n",
              "      <td>NaN</td>\n",
              "      <td>2021-01-05</td>\n",
              "      <td>1</td>\n",
              "      <td>210147125.0</td>\n",
              "      <td>7810400.0</td>\n",
              "      <td>56648</td>\n",
              "      <td>197732</td>\n",
              "      <td>1171</td>\n",
              "      <td>6963407.0</td>\n",
              "      <td>649261.0</td>\n",
              "      <td>NaN</td>\n",
              "    </tr>\n",
              "  </tbody>\n",
              "</table>\n",
              "</div>"
            ],
            "text/plain": [
              "   regiao estado  ... emAcompanhamentoNovos  interior/metropolitana\n",
              "0  Brasil    NaN  ...              748883.0                     NaN\n",
              "1  Brasil    NaN  ...              751260.0                     NaN\n",
              "2  Brasil    NaN  ...              724720.0                     NaN\n",
              "3  Brasil    NaN  ...              681961.0                     NaN\n",
              "4  Brasil    NaN  ...              649261.0                     NaN\n",
              "\n",
              "[5 rows x 17 columns]"
            ]
          },
          "metadata": {
            "tags": []
          },
          "execution_count": 10
        }
      ]
    },
    {
      "cell_type": "markdown",
      "metadata": {
        "id": "f_F8U2Dwd8Q8"
      },
      "source": [
        "Para esse projeto só sera analisado os municipios relacionados ao estado do CEARÁ, portanto todos os dataframes serão filtrados pelo estado *CE*, atráves da função **filtraestado**"
      ]
    },
    {
      "cell_type": "code",
      "metadata": {
        "id": "llzjarftfZvj"
      },
      "source": [
        "#Filtrando os dados pelo estado do Ceará\n",
        "dados1 = filtraestado(dados_brutos1,'estado','CE')\n",
        "dados2 = filtraestado(dados_brutos2,'estado','CE')\n",
        "dados3 = filtraestado(dados_brutos3,'estado','CE')"
      ],
      "execution_count": null,
      "outputs": []
    },
    {
      "cell_type": "markdown",
      "metadata": {
        "id": "awcseNULgCdz"
      },
      "source": [
        "Feito isso o próximo passo é concatenar os dataframes em uma única base de dados, chamada **dados_CE**"
      ]
    },
    {
      "cell_type": "code",
      "metadata": {
        "colab": {
          "base_uri": "https://localhost:8080/",
          "height": 308
        },
        "id": "GewNNr-BfmJW",
        "outputId": "a7ab6897-4ac1-4dcb-a69b-6d6560d41f8d"
      },
      "source": [
        "#concatenando os dataframes\n",
        "dados_CE = pd.concat([dados1, dados2, dados3])\n",
        "dados_CE.head()"
      ],
      "execution_count": null,
      "outputs": [
        {
          "output_type": "execute_result",
          "data": {
            "text/html": [
              "<div>\n",
              "<style scoped>\n",
              "    .dataframe tbody tr th:only-of-type {\n",
              "        vertical-align: middle;\n",
              "    }\n",
              "\n",
              "    .dataframe tbody tr th {\n",
              "        vertical-align: top;\n",
              "    }\n",
              "\n",
              "    .dataframe thead th {\n",
              "        text-align: right;\n",
              "    }\n",
              "</style>\n",
              "<table border=\"1\" class=\"dataframe\">\n",
              "  <thead>\n",
              "    <tr style=\"text-align: right;\">\n",
              "      <th></th>\n",
              "      <th>regiao</th>\n",
              "      <th>estado</th>\n",
              "      <th>municipio</th>\n",
              "      <th>coduf</th>\n",
              "      <th>codmun</th>\n",
              "      <th>codRegiaoSaude</th>\n",
              "      <th>nomeRegiaoSaude</th>\n",
              "      <th>data</th>\n",
              "      <th>semanaEpi</th>\n",
              "      <th>populacaoTCU2019</th>\n",
              "      <th>casosAcumulado</th>\n",
              "      <th>casosNovos</th>\n",
              "      <th>obitosAcumulado</th>\n",
              "      <th>obitosNovos</th>\n",
              "      <th>Recuperadosnovos</th>\n",
              "      <th>emAcompanhamentoNovos</th>\n",
              "      <th>interior/metropolitana</th>\n",
              "    </tr>\n",
              "  </thead>\n",
              "  <tbody>\n",
              "    <tr>\n",
              "      <th>1580</th>\n",
              "      <td>Nordeste</td>\n",
              "      <td>CE</td>\n",
              "      <td>NaN</td>\n",
              "      <td>23</td>\n",
              "      <td>NaN</td>\n",
              "      <td>NaN</td>\n",
              "      <td>NaN</td>\n",
              "      <td>2020-02-25</td>\n",
              "      <td>9</td>\n",
              "      <td>9132078.0</td>\n",
              "      <td>0.0</td>\n",
              "      <td>0</td>\n",
              "      <td>0</td>\n",
              "      <td>0</td>\n",
              "      <td>NaN</td>\n",
              "      <td>NaN</td>\n",
              "      <td>NaN</td>\n",
              "    </tr>\n",
              "    <tr>\n",
              "      <th>1581</th>\n",
              "      <td>Nordeste</td>\n",
              "      <td>CE</td>\n",
              "      <td>NaN</td>\n",
              "      <td>23</td>\n",
              "      <td>NaN</td>\n",
              "      <td>NaN</td>\n",
              "      <td>NaN</td>\n",
              "      <td>2020-02-26</td>\n",
              "      <td>9</td>\n",
              "      <td>9132078.0</td>\n",
              "      <td>0.0</td>\n",
              "      <td>0</td>\n",
              "      <td>0</td>\n",
              "      <td>0</td>\n",
              "      <td>NaN</td>\n",
              "      <td>NaN</td>\n",
              "      <td>NaN</td>\n",
              "    </tr>\n",
              "    <tr>\n",
              "      <th>1582</th>\n",
              "      <td>Nordeste</td>\n",
              "      <td>CE</td>\n",
              "      <td>NaN</td>\n",
              "      <td>23</td>\n",
              "      <td>NaN</td>\n",
              "      <td>NaN</td>\n",
              "      <td>NaN</td>\n",
              "      <td>2020-02-27</td>\n",
              "      <td>9</td>\n",
              "      <td>9132078.0</td>\n",
              "      <td>0.0</td>\n",
              "      <td>0</td>\n",
              "      <td>0</td>\n",
              "      <td>0</td>\n",
              "      <td>NaN</td>\n",
              "      <td>NaN</td>\n",
              "      <td>NaN</td>\n",
              "    </tr>\n",
              "    <tr>\n",
              "      <th>1583</th>\n",
              "      <td>Nordeste</td>\n",
              "      <td>CE</td>\n",
              "      <td>NaN</td>\n",
              "      <td>23</td>\n",
              "      <td>NaN</td>\n",
              "      <td>NaN</td>\n",
              "      <td>NaN</td>\n",
              "      <td>2020-02-28</td>\n",
              "      <td>9</td>\n",
              "      <td>9132078.0</td>\n",
              "      <td>0.0</td>\n",
              "      <td>0</td>\n",
              "      <td>0</td>\n",
              "      <td>0</td>\n",
              "      <td>NaN</td>\n",
              "      <td>NaN</td>\n",
              "      <td>NaN</td>\n",
              "    </tr>\n",
              "    <tr>\n",
              "      <th>1584</th>\n",
              "      <td>Nordeste</td>\n",
              "      <td>CE</td>\n",
              "      <td>NaN</td>\n",
              "      <td>23</td>\n",
              "      <td>NaN</td>\n",
              "      <td>NaN</td>\n",
              "      <td>NaN</td>\n",
              "      <td>2020-02-29</td>\n",
              "      <td>9</td>\n",
              "      <td>9132078.0</td>\n",
              "      <td>0.0</td>\n",
              "      <td>0</td>\n",
              "      <td>0</td>\n",
              "      <td>0</td>\n",
              "      <td>NaN</td>\n",
              "      <td>NaN</td>\n",
              "      <td>NaN</td>\n",
              "    </tr>\n",
              "  </tbody>\n",
              "</table>\n",
              "</div>"
            ],
            "text/plain": [
              "        regiao estado  ... emAcompanhamentoNovos  interior/metropolitana\n",
              "1580  Nordeste     CE  ...                   NaN                     NaN\n",
              "1581  Nordeste     CE  ...                   NaN                     NaN\n",
              "1582  Nordeste     CE  ...                   NaN                     NaN\n",
              "1583  Nordeste     CE  ...                   NaN                     NaN\n",
              "1584  Nordeste     CE  ...                   NaN                     NaN\n",
              "\n",
              "[5 rows x 17 columns]"
            ]
          },
          "metadata": {
            "tags": []
          },
          "execution_count": 13
        }
      ]
    },
    {
      "cell_type": "markdown",
      "metadata": {
        "id": "yQyyx27WhChS"
      },
      "source": [
        "Observando os dados dos dataframes é possivel observar que quando a coluna `codmun`ou `municipio`são iguais a *NaN*, é porque esses dados são referentes aos valores totais de cada estado. Nesse caso deveremos fazer uma seleção dos dados onde estes não são iguais a *NaN*"
      ]
    },
    {
      "cell_type": "code",
      "metadata": {
        "colab": {
          "base_uri": "https://localhost:8080/",
          "height": 52
        },
        "id": "K5lugoXEgz6p",
        "outputId": "c8f7957e-d103-4ed6-b170-f2eee553ba6c"
      },
      "source": [
        "display(dados_CE['municipio'].isnull().sum().sum())\n",
        "display(dados_CE['codmun'].isnull().sum().sum())"
      ],
      "execution_count": null,
      "outputs": [
        {
          "output_type": "display_data",
          "data": {
            "text/plain": [
              "943"
            ]
          },
          "metadata": {
            "tags": []
          }
        },
        {
          "output_type": "display_data",
          "data": {
            "text/plain": [
              "487"
            ]
          },
          "metadata": {
            "tags": []
          }
        }
      ]
    },
    {
      "cell_type": "code",
      "metadata": {
        "colab": {
          "base_uri": "https://localhost:8080/",
          "height": 52
        },
        "id": "Tv8vg3wgiZ9v",
        "outputId": "af8f3d43-c144-4e4a-95fd-40a5e1cdfed4"
      },
      "source": [
        "display(dados_CE['municipio'].isna().sum().sum())\n",
        "display(dados_CE['codmun'].isna().sum().sum())"
      ],
      "execution_count": null,
      "outputs": [
        {
          "output_type": "display_data",
          "data": {
            "text/plain": [
              "943"
            ]
          },
          "metadata": {
            "tags": []
          }
        },
        {
          "output_type": "display_data",
          "data": {
            "text/plain": [
              "487"
            ]
          },
          "metadata": {
            "tags": []
          }
        }
      ]
    },
    {
      "cell_type": "code",
      "metadata": {
        "colab": {
          "base_uri": "https://localhost:8080/"
        },
        "id": "3oEg6GwZjg1q",
        "outputId": "b07e114d-339c-4be0-f910-dc7ef838269f"
      },
      "source": [
        "dados_CE.info()"
      ],
      "execution_count": null,
      "outputs": [
        {
          "output_type": "stream",
          "text": [
            "<class 'pandas.core.frame.DataFrame'>\n",
            "Int64Index: 84847 entries, 1580 to 195184\n",
            "Data columns (total 17 columns):\n",
            " #   Column                  Non-Null Count  Dtype  \n",
            "---  ------                  --------------  -----  \n",
            " 0   regiao                  84847 non-null  object \n",
            " 1   estado                  84847 non-null  object \n",
            " 2   municipio               83904 non-null  object \n",
            " 3   coduf                   84847 non-null  int64  \n",
            " 4   codmun                  84360 non-null  float64\n",
            " 5   codRegiaoSaude          83904 non-null  float64\n",
            " 6   nomeRegiaoSaude         83904 non-null  object \n",
            " 7   data                    84847 non-null  object \n",
            " 8   semanaEpi               84847 non-null  int64  \n",
            " 9   populacaoTCU2019        84391 non-null  float64\n",
            " 10  casosAcumulado          84847 non-null  float64\n",
            " 11  casosNovos              84847 non-null  int64  \n",
            " 12  obitosAcumulado         84847 non-null  int64  \n",
            " 13  obitosNovos             84847 non-null  int64  \n",
            " 14  Recuperadosnovos        0 non-null      float64\n",
            " 15  emAcompanhamentoNovos   0 non-null      float64\n",
            " 16  interior/metropolitana  83904 non-null  float64\n",
            "dtypes: float64(7), int64(5), object(5)\n",
            "memory usage: 11.7+ MB\n"
          ],
          "name": "stdout"
        }
      ]
    },
    {
      "cell_type": "markdown",
      "metadata": {
        "id": "oHmfq7CUjll5"
      },
      "source": [
        "aplicando o função excluir dados NaN"
      ]
    },
    {
      "cell_type": "code",
      "metadata": {
        "colab": {
          "base_uri": "https://localhost:8080/",
          "height": 607
        },
        "id": "nPzsseHIk0ZK",
        "outputId": "3e8a1c38-3ed2-460f-9834-a8e176d96b4e"
      },
      "source": [
        "dados_CE = excluiNA(dados_CE, 'municipio','codmun')\n",
        "dados_CE"
      ],
      "execution_count": null,
      "outputs": [
        {
          "output_type": "execute_result",
          "data": {
            "text/html": [
              "<div>\n",
              "<style scoped>\n",
              "    .dataframe tbody tr th:only-of-type {\n",
              "        vertical-align: middle;\n",
              "    }\n",
              "\n",
              "    .dataframe tbody tr th {\n",
              "        vertical-align: top;\n",
              "    }\n",
              "\n",
              "    .dataframe thead th {\n",
              "        text-align: right;\n",
              "    }\n",
              "</style>\n",
              "<table border=\"1\" class=\"dataframe\">\n",
              "  <thead>\n",
              "    <tr style=\"text-align: right;\">\n",
              "      <th></th>\n",
              "      <th>regiao</th>\n",
              "      <th>estado</th>\n",
              "      <th>municipio</th>\n",
              "      <th>coduf</th>\n",
              "      <th>codmun</th>\n",
              "      <th>codRegiaoSaude</th>\n",
              "      <th>nomeRegiaoSaude</th>\n",
              "      <th>data</th>\n",
              "      <th>semanaEpi</th>\n",
              "      <th>populacaoTCU2019</th>\n",
              "      <th>casosAcumulado</th>\n",
              "      <th>casosNovos</th>\n",
              "      <th>obitosAcumulado</th>\n",
              "      <th>obitosNovos</th>\n",
              "      <th>Recuperadosnovos</th>\n",
              "      <th>emAcompanhamentoNovos</th>\n",
              "      <th>interior/metropolitana</th>\n",
              "    </tr>\n",
              "  </thead>\n",
              "  <tbody>\n",
              "    <tr>\n",
              "      <th>118343</th>\n",
              "      <td>Nordeste</td>\n",
              "      <td>CE</td>\n",
              "      <td>Abaiara</td>\n",
              "      <td>23</td>\n",
              "      <td>230010.0</td>\n",
              "      <td>23019.0</td>\n",
              "      <td>19ª REGIAO BREJO SANTO</td>\n",
              "      <td>2020-03-27</td>\n",
              "      <td>13</td>\n",
              "      <td>11737.0</td>\n",
              "      <td>0.0</td>\n",
              "      <td>0</td>\n",
              "      <td>0</td>\n",
              "      <td>0</td>\n",
              "      <td>NaN</td>\n",
              "      <td>NaN</td>\n",
              "      <td>0.0</td>\n",
              "    </tr>\n",
              "    <tr>\n",
              "      <th>118344</th>\n",
              "      <td>Nordeste</td>\n",
              "      <td>CE</td>\n",
              "      <td>Abaiara</td>\n",
              "      <td>23</td>\n",
              "      <td>230010.0</td>\n",
              "      <td>23019.0</td>\n",
              "      <td>19ª REGIAO BREJO SANTO</td>\n",
              "      <td>2020-03-28</td>\n",
              "      <td>13</td>\n",
              "      <td>11737.0</td>\n",
              "      <td>0.0</td>\n",
              "      <td>0</td>\n",
              "      <td>0</td>\n",
              "      <td>0</td>\n",
              "      <td>NaN</td>\n",
              "      <td>NaN</td>\n",
              "      <td>0.0</td>\n",
              "    </tr>\n",
              "    <tr>\n",
              "      <th>118345</th>\n",
              "      <td>Nordeste</td>\n",
              "      <td>CE</td>\n",
              "      <td>Abaiara</td>\n",
              "      <td>23</td>\n",
              "      <td>230010.0</td>\n",
              "      <td>23019.0</td>\n",
              "      <td>19ª REGIAO BREJO SANTO</td>\n",
              "      <td>2020-03-29</td>\n",
              "      <td>14</td>\n",
              "      <td>11737.0</td>\n",
              "      <td>0.0</td>\n",
              "      <td>0</td>\n",
              "      <td>0</td>\n",
              "      <td>0</td>\n",
              "      <td>NaN</td>\n",
              "      <td>NaN</td>\n",
              "      <td>0.0</td>\n",
              "    </tr>\n",
              "    <tr>\n",
              "      <th>118346</th>\n",
              "      <td>Nordeste</td>\n",
              "      <td>CE</td>\n",
              "      <td>Abaiara</td>\n",
              "      <td>23</td>\n",
              "      <td>230010.0</td>\n",
              "      <td>23019.0</td>\n",
              "      <td>19ª REGIAO BREJO SANTO</td>\n",
              "      <td>2020-03-30</td>\n",
              "      <td>14</td>\n",
              "      <td>11737.0</td>\n",
              "      <td>0.0</td>\n",
              "      <td>0</td>\n",
              "      <td>0</td>\n",
              "      <td>0</td>\n",
              "      <td>NaN</td>\n",
              "      <td>NaN</td>\n",
              "      <td>0.0</td>\n",
              "    </tr>\n",
              "    <tr>\n",
              "      <th>118347</th>\n",
              "      <td>Nordeste</td>\n",
              "      <td>CE</td>\n",
              "      <td>Abaiara</td>\n",
              "      <td>23</td>\n",
              "      <td>230010.0</td>\n",
              "      <td>23019.0</td>\n",
              "      <td>19ª REGIAO BREJO SANTO</td>\n",
              "      <td>2020-03-31</td>\n",
              "      <td>14</td>\n",
              "      <td>11737.0</td>\n",
              "      <td>0.0</td>\n",
              "      <td>0</td>\n",
              "      <td>0</td>\n",
              "      <td>0</td>\n",
              "      <td>NaN</td>\n",
              "      <td>NaN</td>\n",
              "      <td>0.0</td>\n",
              "    </tr>\n",
              "    <tr>\n",
              "      <th>...</th>\n",
              "      <td>...</td>\n",
              "      <td>...</td>\n",
              "      <td>...</td>\n",
              "      <td>...</td>\n",
              "      <td>...</td>\n",
              "      <td>...</td>\n",
              "      <td>...</td>\n",
              "      <td>...</td>\n",
              "      <td>...</td>\n",
              "      <td>...</td>\n",
              "      <td>...</td>\n",
              "      <td>...</td>\n",
              "      <td>...</td>\n",
              "      <td>...</td>\n",
              "      <td>...</td>\n",
              "      <td>...</td>\n",
              "      <td>...</td>\n",
              "    </tr>\n",
              "    <tr>\n",
              "      <th>195180</th>\n",
              "      <td>Nordeste</td>\n",
              "      <td>CE</td>\n",
              "      <td>Viçosa do Ceará</td>\n",
              "      <td>23</td>\n",
              "      <td>231410.0</td>\n",
              "      <td>23013.0</td>\n",
              "      <td>13ª REGIAO TIANGUA</td>\n",
              "      <td>2021-06-21</td>\n",
              "      <td>25</td>\n",
              "      <td>60889.0</td>\n",
              "      <td>4791.0</td>\n",
              "      <td>3</td>\n",
              "      <td>140</td>\n",
              "      <td>0</td>\n",
              "      <td>NaN</td>\n",
              "      <td>NaN</td>\n",
              "      <td>0.0</td>\n",
              "    </tr>\n",
              "    <tr>\n",
              "      <th>195181</th>\n",
              "      <td>Nordeste</td>\n",
              "      <td>CE</td>\n",
              "      <td>Viçosa do Ceará</td>\n",
              "      <td>23</td>\n",
              "      <td>231410.0</td>\n",
              "      <td>23013.0</td>\n",
              "      <td>13ª REGIAO TIANGUA</td>\n",
              "      <td>2021-06-22</td>\n",
              "      <td>25</td>\n",
              "      <td>60889.0</td>\n",
              "      <td>4802.0</td>\n",
              "      <td>11</td>\n",
              "      <td>140</td>\n",
              "      <td>0</td>\n",
              "      <td>NaN</td>\n",
              "      <td>NaN</td>\n",
              "      <td>0.0</td>\n",
              "    </tr>\n",
              "    <tr>\n",
              "      <th>195182</th>\n",
              "      <td>Nordeste</td>\n",
              "      <td>CE</td>\n",
              "      <td>Viçosa do Ceará</td>\n",
              "      <td>23</td>\n",
              "      <td>231410.0</td>\n",
              "      <td>23013.0</td>\n",
              "      <td>13ª REGIAO TIANGUA</td>\n",
              "      <td>2021-06-23</td>\n",
              "      <td>25</td>\n",
              "      <td>60889.0</td>\n",
              "      <td>4809.0</td>\n",
              "      <td>7</td>\n",
              "      <td>140</td>\n",
              "      <td>0</td>\n",
              "      <td>NaN</td>\n",
              "      <td>NaN</td>\n",
              "      <td>0.0</td>\n",
              "    </tr>\n",
              "    <tr>\n",
              "      <th>195183</th>\n",
              "      <td>Nordeste</td>\n",
              "      <td>CE</td>\n",
              "      <td>Viçosa do Ceará</td>\n",
              "      <td>23</td>\n",
              "      <td>231410.0</td>\n",
              "      <td>23013.0</td>\n",
              "      <td>13ª REGIAO TIANGUA</td>\n",
              "      <td>2021-06-24</td>\n",
              "      <td>25</td>\n",
              "      <td>60889.0</td>\n",
              "      <td>4820.0</td>\n",
              "      <td>11</td>\n",
              "      <td>140</td>\n",
              "      <td>0</td>\n",
              "      <td>NaN</td>\n",
              "      <td>NaN</td>\n",
              "      <td>0.0</td>\n",
              "    </tr>\n",
              "    <tr>\n",
              "      <th>195184</th>\n",
              "      <td>Nordeste</td>\n",
              "      <td>CE</td>\n",
              "      <td>Viçosa do Ceará</td>\n",
              "      <td>23</td>\n",
              "      <td>231410.0</td>\n",
              "      <td>23013.0</td>\n",
              "      <td>13ª REGIAO TIANGUA</td>\n",
              "      <td>2021-06-25</td>\n",
              "      <td>25</td>\n",
              "      <td>60889.0</td>\n",
              "      <td>4829.0</td>\n",
              "      <td>9</td>\n",
              "      <td>140</td>\n",
              "      <td>0</td>\n",
              "      <td>NaN</td>\n",
              "      <td>NaN</td>\n",
              "      <td>0.0</td>\n",
              "    </tr>\n",
              "  </tbody>\n",
              "</table>\n",
              "<p>83904 rows × 17 columns</p>\n",
              "</div>"
            ],
            "text/plain": [
              "          regiao estado  ... emAcompanhamentoNovos  interior/metropolitana\n",
              "118343  Nordeste     CE  ...                   NaN                     0.0\n",
              "118344  Nordeste     CE  ...                   NaN                     0.0\n",
              "118345  Nordeste     CE  ...                   NaN                     0.0\n",
              "118346  Nordeste     CE  ...                   NaN                     0.0\n",
              "118347  Nordeste     CE  ...                   NaN                     0.0\n",
              "...          ...    ...  ...                   ...                     ...\n",
              "195180  Nordeste     CE  ...                   NaN                     0.0\n",
              "195181  Nordeste     CE  ...                   NaN                     0.0\n",
              "195182  Nordeste     CE  ...                   NaN                     0.0\n",
              "195183  Nordeste     CE  ...                   NaN                     0.0\n",
              "195184  Nordeste     CE  ...                   NaN                     0.0\n",
              "\n",
              "[83904 rows x 17 columns]"
            ]
          },
          "metadata": {
            "tags": []
          },
          "execution_count": 17
        }
      ]
    },
    {
      "cell_type": "markdown",
      "metadata": {
        "id": "nTXrrZYGlhol"
      },
      "source": [
        "Filtrando as informações de colunas que não são necessárias"
      ]
    },
    {
      "cell_type": "code",
      "metadata": {
        "colab": {
          "base_uri": "https://localhost:8080/"
        },
        "id": "7Qi3eyozlvsm",
        "outputId": "17078af6-bcb1-4644-e653-8645e1cfbc7f"
      },
      "source": [
        "dados_CE.columns"
      ],
      "execution_count": null,
      "outputs": [
        {
          "output_type": "execute_result",
          "data": {
            "text/plain": [
              "Index(['regiao', 'estado', 'municipio', 'coduf', 'codmun', 'codRegiaoSaude',\n",
              "       'nomeRegiaoSaude', 'data', 'semanaEpi', 'populacaoTCU2019',\n",
              "       'casosAcumulado', 'casosNovos', 'obitosAcumulado', 'obitosNovos',\n",
              "       'Recuperadosnovos', 'emAcompanhamentoNovos', 'interior/metropolitana'],\n",
              "      dtype='object')"
            ]
          },
          "metadata": {
            "tags": []
          },
          "execution_count": 18
        }
      ]
    },
    {
      "cell_type": "markdown",
      "metadata": {
        "id": "43Yeul84pQXq"
      },
      "source": [
        "Transformando o `codmun` em **int**"
      ]
    },
    {
      "cell_type": "code",
      "metadata": {
        "id": "7eVfIau_ly9v"
      },
      "source": [
        "dados_CE['codmun'] = dados_CE['codmun'].astype(int)"
      ],
      "execution_count": null,
      "outputs": []
    },
    {
      "cell_type": "code",
      "metadata": {
        "colab": {
          "base_uri": "https://localhost:8080/"
        },
        "id": "nrTDrUhcsZeT",
        "outputId": "8278a7f6-cfea-40e4-875f-394026eae5d0"
      },
      "source": [
        "dados_CE['codmun']"
      ],
      "execution_count": null,
      "outputs": [
        {
          "output_type": "execute_result",
          "data": {
            "text/plain": [
              "118343    230010\n",
              "118344    230010\n",
              "118345    230010\n",
              "118346    230010\n",
              "118347    230010\n",
              "           ...  \n",
              "195180    231410\n",
              "195181    231410\n",
              "195182    231410\n",
              "195183    231410\n",
              "195184    231410\n",
              "Name: codmun, Length: 83904, dtype: int64"
            ]
          },
          "metadata": {
            "tags": []
          },
          "execution_count": 20
        }
      ]
    },
    {
      "cell_type": "markdown",
      "metadata": {
        "id": "0YHTsXAa3WUg"
      },
      "source": [
        "Excluir as colunas desnecessárias"
      ]
    },
    {
      "cell_type": "code",
      "metadata": {
        "colab": {
          "base_uri": "https://localhost:8080/",
          "height": 607
        },
        "id": "lT6tz12-3Yq4",
        "outputId": "4c8309f1-2ead-4ad5-ee1a-25becba4fad7"
      },
      "source": [
        "dados_CE =dados_CE.drop(columns = ['regiao','estado','codRegiaoSaude',\n",
        "       'nomeRegiaoSaude','semanaEpi', 'emAcompanhamentoNovos', 'interior/metropolitana','Recuperadosnovos'])\n",
        "dados_CE "
      ],
      "execution_count": null,
      "outputs": [
        {
          "output_type": "execute_result",
          "data": {
            "text/html": [
              "<div>\n",
              "<style scoped>\n",
              "    .dataframe tbody tr th:only-of-type {\n",
              "        vertical-align: middle;\n",
              "    }\n",
              "\n",
              "    .dataframe tbody tr th {\n",
              "        vertical-align: top;\n",
              "    }\n",
              "\n",
              "    .dataframe thead th {\n",
              "        text-align: right;\n",
              "    }\n",
              "</style>\n",
              "<table border=\"1\" class=\"dataframe\">\n",
              "  <thead>\n",
              "    <tr style=\"text-align: right;\">\n",
              "      <th></th>\n",
              "      <th>municipio</th>\n",
              "      <th>coduf</th>\n",
              "      <th>codmun</th>\n",
              "      <th>data</th>\n",
              "      <th>populacaoTCU2019</th>\n",
              "      <th>casosAcumulado</th>\n",
              "      <th>casosNovos</th>\n",
              "      <th>obitosAcumulado</th>\n",
              "      <th>obitosNovos</th>\n",
              "    </tr>\n",
              "  </thead>\n",
              "  <tbody>\n",
              "    <tr>\n",
              "      <th>118343</th>\n",
              "      <td>Abaiara</td>\n",
              "      <td>23</td>\n",
              "      <td>230010</td>\n",
              "      <td>2020-03-27</td>\n",
              "      <td>11737.0</td>\n",
              "      <td>0.0</td>\n",
              "      <td>0</td>\n",
              "      <td>0</td>\n",
              "      <td>0</td>\n",
              "    </tr>\n",
              "    <tr>\n",
              "      <th>118344</th>\n",
              "      <td>Abaiara</td>\n",
              "      <td>23</td>\n",
              "      <td>230010</td>\n",
              "      <td>2020-03-28</td>\n",
              "      <td>11737.0</td>\n",
              "      <td>0.0</td>\n",
              "      <td>0</td>\n",
              "      <td>0</td>\n",
              "      <td>0</td>\n",
              "    </tr>\n",
              "    <tr>\n",
              "      <th>118345</th>\n",
              "      <td>Abaiara</td>\n",
              "      <td>23</td>\n",
              "      <td>230010</td>\n",
              "      <td>2020-03-29</td>\n",
              "      <td>11737.0</td>\n",
              "      <td>0.0</td>\n",
              "      <td>0</td>\n",
              "      <td>0</td>\n",
              "      <td>0</td>\n",
              "    </tr>\n",
              "    <tr>\n",
              "      <th>118346</th>\n",
              "      <td>Abaiara</td>\n",
              "      <td>23</td>\n",
              "      <td>230010</td>\n",
              "      <td>2020-03-30</td>\n",
              "      <td>11737.0</td>\n",
              "      <td>0.0</td>\n",
              "      <td>0</td>\n",
              "      <td>0</td>\n",
              "      <td>0</td>\n",
              "    </tr>\n",
              "    <tr>\n",
              "      <th>118347</th>\n",
              "      <td>Abaiara</td>\n",
              "      <td>23</td>\n",
              "      <td>230010</td>\n",
              "      <td>2020-03-31</td>\n",
              "      <td>11737.0</td>\n",
              "      <td>0.0</td>\n",
              "      <td>0</td>\n",
              "      <td>0</td>\n",
              "      <td>0</td>\n",
              "    </tr>\n",
              "    <tr>\n",
              "      <th>...</th>\n",
              "      <td>...</td>\n",
              "      <td>...</td>\n",
              "      <td>...</td>\n",
              "      <td>...</td>\n",
              "      <td>...</td>\n",
              "      <td>...</td>\n",
              "      <td>...</td>\n",
              "      <td>...</td>\n",
              "      <td>...</td>\n",
              "    </tr>\n",
              "    <tr>\n",
              "      <th>195180</th>\n",
              "      <td>Viçosa do Ceará</td>\n",
              "      <td>23</td>\n",
              "      <td>231410</td>\n",
              "      <td>2021-06-21</td>\n",
              "      <td>60889.0</td>\n",
              "      <td>4791.0</td>\n",
              "      <td>3</td>\n",
              "      <td>140</td>\n",
              "      <td>0</td>\n",
              "    </tr>\n",
              "    <tr>\n",
              "      <th>195181</th>\n",
              "      <td>Viçosa do Ceará</td>\n",
              "      <td>23</td>\n",
              "      <td>231410</td>\n",
              "      <td>2021-06-22</td>\n",
              "      <td>60889.0</td>\n",
              "      <td>4802.0</td>\n",
              "      <td>11</td>\n",
              "      <td>140</td>\n",
              "      <td>0</td>\n",
              "    </tr>\n",
              "    <tr>\n",
              "      <th>195182</th>\n",
              "      <td>Viçosa do Ceará</td>\n",
              "      <td>23</td>\n",
              "      <td>231410</td>\n",
              "      <td>2021-06-23</td>\n",
              "      <td>60889.0</td>\n",
              "      <td>4809.0</td>\n",
              "      <td>7</td>\n",
              "      <td>140</td>\n",
              "      <td>0</td>\n",
              "    </tr>\n",
              "    <tr>\n",
              "      <th>195183</th>\n",
              "      <td>Viçosa do Ceará</td>\n",
              "      <td>23</td>\n",
              "      <td>231410</td>\n",
              "      <td>2021-06-24</td>\n",
              "      <td>60889.0</td>\n",
              "      <td>4820.0</td>\n",
              "      <td>11</td>\n",
              "      <td>140</td>\n",
              "      <td>0</td>\n",
              "    </tr>\n",
              "    <tr>\n",
              "      <th>195184</th>\n",
              "      <td>Viçosa do Ceará</td>\n",
              "      <td>23</td>\n",
              "      <td>231410</td>\n",
              "      <td>2021-06-25</td>\n",
              "      <td>60889.0</td>\n",
              "      <td>4829.0</td>\n",
              "      <td>9</td>\n",
              "      <td>140</td>\n",
              "      <td>0</td>\n",
              "    </tr>\n",
              "  </tbody>\n",
              "</table>\n",
              "<p>83904 rows × 9 columns</p>\n",
              "</div>"
            ],
            "text/plain": [
              "              municipio  coduf  ...  obitosAcumulado obitosNovos\n",
              "118343          Abaiara     23  ...                0           0\n",
              "118344          Abaiara     23  ...                0           0\n",
              "118345          Abaiara     23  ...                0           0\n",
              "118346          Abaiara     23  ...                0           0\n",
              "118347          Abaiara     23  ...                0           0\n",
              "...                 ...    ...  ...              ...         ...\n",
              "195180  Viçosa do Ceará     23  ...              140           0\n",
              "195181  Viçosa do Ceará     23  ...              140           0\n",
              "195182  Viçosa do Ceará     23  ...              140           0\n",
              "195183  Viçosa do Ceará     23  ...              140           0\n",
              "195184  Viçosa do Ceará     23  ...              140           0\n",
              "\n",
              "[83904 rows x 9 columns]"
            ]
          },
          "metadata": {
            "tags": []
          },
          "execution_count": 21
        }
      ]
    },
    {
      "cell_type": "markdown",
      "metadata": {
        "id": "I1gpYAsa5ljY"
      },
      "source": [
        "Transformando as informações de data em datahora"
      ]
    },
    {
      "cell_type": "code",
      "metadata": {
        "colab": {
          "base_uri": "https://localhost:8080/"
        },
        "id": "GHnAHnL56A3G",
        "outputId": "340562a0-533b-4bfa-80f1-621fb1281768"
      },
      "source": [
        "dados_CE.dtypes"
      ],
      "execution_count": null,
      "outputs": [
        {
          "output_type": "execute_result",
          "data": {
            "text/plain": [
              "municipio            object\n",
              "coduf                 int64\n",
              "codmun                int64\n",
              "data                 object\n",
              "populacaoTCU2019    float64\n",
              "casosAcumulado      float64\n",
              "casosNovos            int64\n",
              "obitosAcumulado       int64\n",
              "obitosNovos           int64\n",
              "dtype: object"
            ]
          },
          "metadata": {
            "tags": []
          },
          "execution_count": 22
        }
      ]
    },
    {
      "cell_type": "code",
      "metadata": {
        "id": "j22uX7ao5pyQ"
      },
      "source": [
        "dados_CE['data'] = pd.to_datetime(dados_CE['data'],format='%Y-%m-%d')"
      ],
      "execution_count": null,
      "outputs": []
    },
    {
      "cell_type": "code",
      "metadata": {
        "colab": {
          "base_uri": "https://localhost:8080/"
        },
        "id": "w-40BdQn6Hb3",
        "outputId": "21abd3e1-533c-4c65-efe5-df227488ebd7"
      },
      "source": [
        "dados_CE.dtypes"
      ],
      "execution_count": null,
      "outputs": [
        {
          "output_type": "execute_result",
          "data": {
            "text/plain": [
              "municipio                   object\n",
              "coduf                        int64\n",
              "codmun                       int64\n",
              "data                datetime64[ns]\n",
              "populacaoTCU2019           float64\n",
              "casosAcumulado             float64\n",
              "casosNovos                   int64\n",
              "obitosAcumulado              int64\n",
              "obitosNovos                  int64\n",
              "dtype: object"
            ]
          },
          "metadata": {
            "tags": []
          },
          "execution_count": 24
        }
      ]
    },
    {
      "cell_type": "markdown",
      "metadata": {
        "id": "ikk8GShjblbR"
      },
      "source": [
        "Criando a coluna **regiao** "
      ]
    },
    {
      "cell_type": "code",
      "metadata": {
        "id": "WgRxyiCXQN-c"
      },
      "source": [
        "dados_CE['regiao']=dados_CE['municipio'].apply(regiao)"
      ],
      "execution_count": null,
      "outputs": []
    },
    {
      "cell_type": "markdown",
      "metadata": {
        "id": "9cbZsvxOj_5p"
      },
      "source": [
        "Criando a coluna de **ano**"
      ]
    },
    {
      "cell_type": "code",
      "metadata": {
        "id": "Cyf1dOx2kDyA"
      },
      "source": [
        "dados_CE['ano']=pd.DatetimeIndex(dados_CE['data']).year"
      ],
      "execution_count": null,
      "outputs": []
    },
    {
      "cell_type": "markdown",
      "metadata": {
        "id": "AEYm9-NylkaL"
      },
      "source": [
        "## DATAFRAMES DOS ANOS - 2021 & 2021"
      ]
    },
    {
      "cell_type": "markdown",
      "metadata": {
        "id": "YOo8G1mXU2Ou"
      },
      "source": [
        "Dataframe relativos aos casos de COVID no Ceará, divididos em anos 2020 e 2021(até o dia 25/06/2021)"
      ]
    },
    {
      "cell_type": "code",
      "metadata": {
        "id": "jswSPAu5loex"
      },
      "source": [
        "dados_2020=dados_CE.query('ano==\"2020\"')\n",
        "dados_2021=dados_CE.query('ano==\"2021\"')"
      ],
      "execution_count": null,
      "outputs": []
    },
    {
      "cell_type": "markdown",
      "metadata": {
        "id": "g1lQ_FsKj0Qh"
      },
      "source": [
        "## DATAFRAMES DAS REGIÕES (ANO 2020 e 2021)"
      ]
    },
    {
      "cell_type": "markdown",
      "metadata": {
        "id": "p07eDy4OVIDG"
      },
      "source": [
        "Dataframe relativos aos casos de COVID no Ceará por regiões, divididos em anos 2020 e 2021(até o dia 25/06/2021)"
      ]
    },
    {
      "cell_type": "code",
      "metadata": {
        "colab": {
          "base_uri": "https://localhost:8080/",
          "height": 529
        },
        "id": "eYCEBYSGk1N5",
        "outputId": "d4725b7d-5780-4e24-9aea-8cefa22b554d"
      },
      "source": [
        "dados_regiao_2020=dados_2020.groupby(by=['regiao']).sum()\n",
        "dados_regiao_2020=dados_regiao_2020.drop(columns=['ano','coduf','codmun'],axis=1)\n",
        "dados_regiao_2020"
      ],
      "execution_count": null,
      "outputs": [
        {
          "output_type": "execute_result",
          "data": {
            "text/html": [
              "<div>\n",
              "<style scoped>\n",
              "    .dataframe tbody tr th:only-of-type {\n",
              "        vertical-align: middle;\n",
              "    }\n",
              "\n",
              "    .dataframe tbody tr th {\n",
              "        vertical-align: top;\n",
              "    }\n",
              "\n",
              "    .dataframe thead th {\n",
              "        text-align: right;\n",
              "    }\n",
              "</style>\n",
              "<table border=\"1\" class=\"dataframe\">\n",
              "  <thead>\n",
              "    <tr style=\"text-align: right;\">\n",
              "      <th></th>\n",
              "      <th>populacaoTCU2019</th>\n",
              "      <th>casosAcumulado</th>\n",
              "      <th>casosNovos</th>\n",
              "      <th>obitosAcumulado</th>\n",
              "      <th>obitosNovos</th>\n",
              "    </tr>\n",
              "    <tr>\n",
              "      <th>regiao</th>\n",
              "      <th></th>\n",
              "      <th></th>\n",
              "      <th></th>\n",
              "      <th></th>\n",
              "      <th></th>\n",
              "    </tr>\n",
              "  </thead>\n",
              "  <tbody>\n",
              "    <tr>\n",
              "      <th>Cariri</th>\n",
              "      <td>2.873388e+08</td>\n",
              "      <td>5824562.0</td>\n",
              "      <td>45310</td>\n",
              "      <td>117261</td>\n",
              "      <td>847</td>\n",
              "    </tr>\n",
              "    <tr>\n",
              "      <th>Centro-Sul</th>\n",
              "      <td>1.104547e+08</td>\n",
              "      <td>1804621.0</td>\n",
              "      <td>14917</td>\n",
              "      <td>44431</td>\n",
              "      <td>344</td>\n",
              "    </tr>\n",
              "    <tr>\n",
              "      <th>Litoral Leste</th>\n",
              "      <td>5.769848e+07</td>\n",
              "      <td>838473.0</td>\n",
              "      <td>6159</td>\n",
              "      <td>24333</td>\n",
              "      <td>141</td>\n",
              "    </tr>\n",
              "    <tr>\n",
              "      <th>Litoral Norte</th>\n",
              "      <td>1.128859e+08</td>\n",
              "      <td>2749938.0</td>\n",
              "      <td>15651</td>\n",
              "      <td>64170</td>\n",
              "      <td>347</td>\n",
              "    </tr>\n",
              "    <tr>\n",
              "      <th>Litoral Oeste</th>\n",
              "      <td>1.121571e+08</td>\n",
              "      <td>1722985.0</td>\n",
              "      <td>10656</td>\n",
              "      <td>71628</td>\n",
              "      <td>379</td>\n",
              "    </tr>\n",
              "    <tr>\n",
              "      <th>Maciço de Baturité</th>\n",
              "      <td>6.885060e+07</td>\n",
              "      <td>1397476.0</td>\n",
              "      <td>8870</td>\n",
              "      <td>36854</td>\n",
              "      <td>204</td>\n",
              "    </tr>\n",
              "    <tr>\n",
              "      <th>Região Metropolitana</th>\n",
              "      <td>1.149749e+09</td>\n",
              "      <td>18110356.0</td>\n",
              "      <td>126034</td>\n",
              "      <td>1111890</td>\n",
              "      <td>5616</td>\n",
              "    </tr>\n",
              "    <tr>\n",
              "      <th>Serra da Ibiapaba</th>\n",
              "      <td>1.015846e+08</td>\n",
              "      <td>2053856.0</td>\n",
              "      <td>14707</td>\n",
              "      <td>45709</td>\n",
              "      <td>290</td>\n",
              "    </tr>\n",
              "    <tr>\n",
              "      <th>Sertao dos Crateús</th>\n",
              "      <td>9.876300e+07</td>\n",
              "      <td>1897705.0</td>\n",
              "      <td>16080</td>\n",
              "      <td>37117</td>\n",
              "      <td>259</td>\n",
              "    </tr>\n",
              "    <tr>\n",
              "      <th>Sertão Central</th>\n",
              "      <td>1.111656e+08</td>\n",
              "      <td>2012071.0</td>\n",
              "      <td>13892</td>\n",
              "      <td>54454</td>\n",
              "      <td>345</td>\n",
              "    </tr>\n",
              "    <tr>\n",
              "      <th>Sertão de Canidé</th>\n",
              "      <td>5.812184e+07</td>\n",
              "      <td>927521.0</td>\n",
              "      <td>6091</td>\n",
              "      <td>31254</td>\n",
              "      <td>186</td>\n",
              "    </tr>\n",
              "    <tr>\n",
              "      <th>Sertão de Sobral</th>\n",
              "      <td>1.393042e+08</td>\n",
              "      <td>4469988.0</td>\n",
              "      <td>27755</td>\n",
              "      <td>110470</td>\n",
              "      <td>613</td>\n",
              "    </tr>\n",
              "    <tr>\n",
              "      <th>Sertão dos Inhamus</th>\n",
              "      <td>3.827684e+07</td>\n",
              "      <td>526661.0</td>\n",
              "      <td>4764</td>\n",
              "      <td>12578</td>\n",
              "      <td>111</td>\n",
              "    </tr>\n",
              "    <tr>\n",
              "      <th>Vale do Jaguaribe</th>\n",
              "      <td>1.106316e+08</td>\n",
              "      <td>2351743.0</td>\n",
              "      <td>18314</td>\n",
              "      <td>48058</td>\n",
              "      <td>308</td>\n",
              "    </tr>\n",
              "  </tbody>\n",
              "</table>\n",
              "</div>"
            ],
            "text/plain": [
              "                      populacaoTCU2019  ...  obitosNovos\n",
              "regiao                                  ...             \n",
              "Cariri                    2.873388e+08  ...          847\n",
              "Centro-Sul                1.104547e+08  ...          344\n",
              "Litoral Leste             5.769848e+07  ...          141\n",
              "Litoral Norte             1.128859e+08  ...          347\n",
              "Litoral Oeste             1.121571e+08  ...          379\n",
              "Maciço de Baturité        6.885060e+07  ...          204\n",
              "Região Metropolitana      1.149749e+09  ...         5616\n",
              "Serra da Ibiapaba         1.015846e+08  ...          290\n",
              "Sertao dos Crateús        9.876300e+07  ...          259\n",
              "Sertão Central            1.111656e+08  ...          345\n",
              "Sertão de Canidé          5.812184e+07  ...          186\n",
              "Sertão de Sobral          1.393042e+08  ...          613\n",
              "Sertão dos Inhamus        3.827684e+07  ...          111\n",
              "Vale do Jaguaribe         1.106316e+08  ...          308\n",
              "\n",
              "[14 rows x 5 columns]"
            ]
          },
          "metadata": {
            "tags": []
          },
          "execution_count": 28
        }
      ]
    },
    {
      "cell_type": "code",
      "metadata": {
        "colab": {
          "base_uri": "https://localhost:8080/",
          "height": 529
        },
        "id": "vKIEULH5mwXJ",
        "outputId": "d019d29c-5918-4056-bcd7-60bc33e32f08"
      },
      "source": [
        "dados_regiao_2021=dados_2021.groupby(by=['regiao']).sum()\n",
        "dados_regiao_2021=dados_regiao_2021.drop(columns=['ano','coduf','codmun'],axis=1)\n",
        "dados_regiao_2021"
      ],
      "execution_count": null,
      "outputs": [
        {
          "output_type": "execute_result",
          "data": {
            "text/html": [
              "<div>\n",
              "<style scoped>\n",
              "    .dataframe tbody tr th:only-of-type {\n",
              "        vertical-align: middle;\n",
              "    }\n",
              "\n",
              "    .dataframe tbody tr th {\n",
              "        vertical-align: top;\n",
              "    }\n",
              "\n",
              "    .dataframe thead th {\n",
              "        text-align: right;\n",
              "    }\n",
              "</style>\n",
              "<table border=\"1\" class=\"dataframe\">\n",
              "  <thead>\n",
              "    <tr style=\"text-align: right;\">\n",
              "      <th></th>\n",
              "      <th>populacaoTCU2019</th>\n",
              "      <th>casosAcumulado</th>\n",
              "      <th>casosNovos</th>\n",
              "      <th>obitosAcumulado</th>\n",
              "      <th>obitosNovos</th>\n",
              "    </tr>\n",
              "    <tr>\n",
              "      <th>regiao</th>\n",
              "      <th></th>\n",
              "      <th></th>\n",
              "      <th></th>\n",
              "      <th></th>\n",
              "      <th></th>\n",
              "    </tr>\n",
              "  </thead>\n",
              "  <tbody>\n",
              "    <tr>\n",
              "      <th>Cariri</th>\n",
              "      <td>180612960.0</td>\n",
              "      <td>11310309.0</td>\n",
              "      <td>52497</td>\n",
              "      <td>210197</td>\n",
              "      <td>1039</td>\n",
              "    </tr>\n",
              "    <tr>\n",
              "      <th>Centro-Sul</th>\n",
              "      <td>69428656.0</td>\n",
              "      <td>4047902.0</td>\n",
              "      <td>22908</td>\n",
              "      <td>85988</td>\n",
              "      <td>402</td>\n",
              "    </tr>\n",
              "    <tr>\n",
              "      <th>Litoral Leste</th>\n",
              "      <td>36267616.0</td>\n",
              "      <td>2151036.0</td>\n",
              "      <td>16010</td>\n",
              "      <td>42174</td>\n",
              "      <td>255</td>\n",
              "    </tr>\n",
              "    <tr>\n",
              "      <th>Litoral Norte</th>\n",
              "      <td>70956864.0</td>\n",
              "      <td>4201700.0</td>\n",
              "      <td>20065</td>\n",
              "      <td>85708</td>\n",
              "      <td>375</td>\n",
              "    </tr>\n",
              "    <tr>\n",
              "      <th>Litoral Oeste</th>\n",
              "      <td>70498736.0</td>\n",
              "      <td>3205405.0</td>\n",
              "      <td>19460</td>\n",
              "      <td>95076</td>\n",
              "      <td>421</td>\n",
              "    </tr>\n",
              "    <tr>\n",
              "      <th>Maciço de Baturité</th>\n",
              "      <td>43277520.0</td>\n",
              "      <td>2887543.0</td>\n",
              "      <td>20537</td>\n",
              "      <td>50675</td>\n",
              "      <td>235</td>\n",
              "    </tr>\n",
              "    <tr>\n",
              "      <th>Região Metropolitana</th>\n",
              "      <td>722699120.0</td>\n",
              "      <td>42621412.0</td>\n",
              "      <td>242739</td>\n",
              "      <td>1490353</td>\n",
              "      <td>6838</td>\n",
              "    </tr>\n",
              "    <tr>\n",
              "      <th>Serra da Ibiapaba</th>\n",
              "      <td>63853152.0</td>\n",
              "      <td>3659335.0</td>\n",
              "      <td>16194</td>\n",
              "      <td>70920</td>\n",
              "      <td>306</td>\n",
              "    </tr>\n",
              "    <tr>\n",
              "      <th>Sertao dos Crateús</th>\n",
              "      <td>62079600.0</td>\n",
              "      <td>4220039.0</td>\n",
              "      <td>22369</td>\n",
              "      <td>69552</td>\n",
              "      <td>394</td>\n",
              "    </tr>\n",
              "    <tr>\n",
              "      <th>Sertão Central</th>\n",
              "      <td>69875520.0</td>\n",
              "      <td>3803395.0</td>\n",
              "      <td>22681</td>\n",
              "      <td>87871</td>\n",
              "      <td>428</td>\n",
              "    </tr>\n",
              "    <tr>\n",
              "      <th>Sertão de Canidé</th>\n",
              "      <td>36533728.0</td>\n",
              "      <td>1677176.0</td>\n",
              "      <td>9072</td>\n",
              "      <td>48808</td>\n",
              "      <td>239</td>\n",
              "    </tr>\n",
              "    <tr>\n",
              "      <th>Sertão de Sobral</th>\n",
              "      <td>87562640.0</td>\n",
              "      <td>7067420.0</td>\n",
              "      <td>30760</td>\n",
              "      <td>155604</td>\n",
              "      <td>703</td>\n",
              "    </tr>\n",
              "    <tr>\n",
              "      <th>Sertão dos Inhamus</th>\n",
              "      <td>24059728.0</td>\n",
              "      <td>1376954.0</td>\n",
              "      <td>7751</td>\n",
              "      <td>30635</td>\n",
              "      <td>178</td>\n",
              "    </tr>\n",
              "    <tr>\n",
              "      <th>Vale do Jaguaribe</th>\n",
              "      <td>69539888.0</td>\n",
              "      <td>5543770.0</td>\n",
              "      <td>33210</td>\n",
              "      <td>90376</td>\n",
              "      <td>549</td>\n",
              "    </tr>\n",
              "  </tbody>\n",
              "</table>\n",
              "</div>"
            ],
            "text/plain": [
              "                      populacaoTCU2019  ...  obitosNovos\n",
              "regiao                                  ...             \n",
              "Cariri                     180612960.0  ...         1039\n",
              "Centro-Sul                  69428656.0  ...          402\n",
              "Litoral Leste               36267616.0  ...          255\n",
              "Litoral Norte               70956864.0  ...          375\n",
              "Litoral Oeste               70498736.0  ...          421\n",
              "Maciço de Baturité          43277520.0  ...          235\n",
              "Região Metropolitana       722699120.0  ...         6838\n",
              "Serra da Ibiapaba           63853152.0  ...          306\n",
              "Sertao dos Crateús          62079600.0  ...          394\n",
              "Sertão Central              69875520.0  ...          428\n",
              "Sertão de Canidé            36533728.0  ...          239\n",
              "Sertão de Sobral            87562640.0  ...          703\n",
              "Sertão dos Inhamus          24059728.0  ...          178\n",
              "Vale do Jaguaribe           69539888.0  ...          549\n",
              "\n",
              "[14 rows x 5 columns]"
            ]
          },
          "metadata": {
            "tags": []
          },
          "execution_count": 29
        }
      ]
    },
    {
      "cell_type": "markdown",
      "metadata": {
        "id": "-lUN2cAXvYZ8"
      },
      "source": [
        "## DATAFRAME DOS MUNICIPIOS GERAL"
      ]
    },
    {
      "cell_type": "markdown",
      "metadata": {
        "id": "Tu22VzveVL6-"
      },
      "source": [
        "Dataframe relativos aos casos de COVID no Ceará por municipio"
      ]
    },
    {
      "cell_type": "code",
      "metadata": {
        "colab": {
          "base_uri": "https://localhost:8080/",
          "height": 607
        },
        "id": "1hORT1x4v0Qk",
        "outputId": "ee362252-e06e-4a8a-a4d6-9bd2809edd03"
      },
      "source": [
        "dados_CE"
      ],
      "execution_count": null,
      "outputs": [
        {
          "output_type": "execute_result",
          "data": {
            "text/html": [
              "<div>\n",
              "<style scoped>\n",
              "    .dataframe tbody tr th:only-of-type {\n",
              "        vertical-align: middle;\n",
              "    }\n",
              "\n",
              "    .dataframe tbody tr th {\n",
              "        vertical-align: top;\n",
              "    }\n",
              "\n",
              "    .dataframe thead th {\n",
              "        text-align: right;\n",
              "    }\n",
              "</style>\n",
              "<table border=\"1\" class=\"dataframe\">\n",
              "  <thead>\n",
              "    <tr style=\"text-align: right;\">\n",
              "      <th></th>\n",
              "      <th>municipio</th>\n",
              "      <th>coduf</th>\n",
              "      <th>codmun</th>\n",
              "      <th>data</th>\n",
              "      <th>populacaoTCU2019</th>\n",
              "      <th>casosAcumulado</th>\n",
              "      <th>casosNovos</th>\n",
              "      <th>obitosAcumulado</th>\n",
              "      <th>obitosNovos</th>\n",
              "      <th>regiao</th>\n",
              "      <th>ano</th>\n",
              "    </tr>\n",
              "  </thead>\n",
              "  <tbody>\n",
              "    <tr>\n",
              "      <th>118343</th>\n",
              "      <td>Abaiara</td>\n",
              "      <td>23</td>\n",
              "      <td>230010</td>\n",
              "      <td>2020-03-27</td>\n",
              "      <td>11737.0</td>\n",
              "      <td>0.0</td>\n",
              "      <td>0</td>\n",
              "      <td>0</td>\n",
              "      <td>0</td>\n",
              "      <td>Cariri</td>\n",
              "      <td>2020</td>\n",
              "    </tr>\n",
              "    <tr>\n",
              "      <th>118344</th>\n",
              "      <td>Abaiara</td>\n",
              "      <td>23</td>\n",
              "      <td>230010</td>\n",
              "      <td>2020-03-28</td>\n",
              "      <td>11737.0</td>\n",
              "      <td>0.0</td>\n",
              "      <td>0</td>\n",
              "      <td>0</td>\n",
              "      <td>0</td>\n",
              "      <td>Cariri</td>\n",
              "      <td>2020</td>\n",
              "    </tr>\n",
              "    <tr>\n",
              "      <th>118345</th>\n",
              "      <td>Abaiara</td>\n",
              "      <td>23</td>\n",
              "      <td>230010</td>\n",
              "      <td>2020-03-29</td>\n",
              "      <td>11737.0</td>\n",
              "      <td>0.0</td>\n",
              "      <td>0</td>\n",
              "      <td>0</td>\n",
              "      <td>0</td>\n",
              "      <td>Cariri</td>\n",
              "      <td>2020</td>\n",
              "    </tr>\n",
              "    <tr>\n",
              "      <th>118346</th>\n",
              "      <td>Abaiara</td>\n",
              "      <td>23</td>\n",
              "      <td>230010</td>\n",
              "      <td>2020-03-30</td>\n",
              "      <td>11737.0</td>\n",
              "      <td>0.0</td>\n",
              "      <td>0</td>\n",
              "      <td>0</td>\n",
              "      <td>0</td>\n",
              "      <td>Cariri</td>\n",
              "      <td>2020</td>\n",
              "    </tr>\n",
              "    <tr>\n",
              "      <th>118347</th>\n",
              "      <td>Abaiara</td>\n",
              "      <td>23</td>\n",
              "      <td>230010</td>\n",
              "      <td>2020-03-31</td>\n",
              "      <td>11737.0</td>\n",
              "      <td>0.0</td>\n",
              "      <td>0</td>\n",
              "      <td>0</td>\n",
              "      <td>0</td>\n",
              "      <td>Cariri</td>\n",
              "      <td>2020</td>\n",
              "    </tr>\n",
              "    <tr>\n",
              "      <th>...</th>\n",
              "      <td>...</td>\n",
              "      <td>...</td>\n",
              "      <td>...</td>\n",
              "      <td>...</td>\n",
              "      <td>...</td>\n",
              "      <td>...</td>\n",
              "      <td>...</td>\n",
              "      <td>...</td>\n",
              "      <td>...</td>\n",
              "      <td>...</td>\n",
              "      <td>...</td>\n",
              "    </tr>\n",
              "    <tr>\n",
              "      <th>195180</th>\n",
              "      <td>Viçosa do Ceará</td>\n",
              "      <td>23</td>\n",
              "      <td>231410</td>\n",
              "      <td>2021-06-21</td>\n",
              "      <td>60889.0</td>\n",
              "      <td>4791.0</td>\n",
              "      <td>3</td>\n",
              "      <td>140</td>\n",
              "      <td>0</td>\n",
              "      <td>Serra da Ibiapaba</td>\n",
              "      <td>2021</td>\n",
              "    </tr>\n",
              "    <tr>\n",
              "      <th>195181</th>\n",
              "      <td>Viçosa do Ceará</td>\n",
              "      <td>23</td>\n",
              "      <td>231410</td>\n",
              "      <td>2021-06-22</td>\n",
              "      <td>60889.0</td>\n",
              "      <td>4802.0</td>\n",
              "      <td>11</td>\n",
              "      <td>140</td>\n",
              "      <td>0</td>\n",
              "      <td>Serra da Ibiapaba</td>\n",
              "      <td>2021</td>\n",
              "    </tr>\n",
              "    <tr>\n",
              "      <th>195182</th>\n",
              "      <td>Viçosa do Ceará</td>\n",
              "      <td>23</td>\n",
              "      <td>231410</td>\n",
              "      <td>2021-06-23</td>\n",
              "      <td>60889.0</td>\n",
              "      <td>4809.0</td>\n",
              "      <td>7</td>\n",
              "      <td>140</td>\n",
              "      <td>0</td>\n",
              "      <td>Serra da Ibiapaba</td>\n",
              "      <td>2021</td>\n",
              "    </tr>\n",
              "    <tr>\n",
              "      <th>195183</th>\n",
              "      <td>Viçosa do Ceará</td>\n",
              "      <td>23</td>\n",
              "      <td>231410</td>\n",
              "      <td>2021-06-24</td>\n",
              "      <td>60889.0</td>\n",
              "      <td>4820.0</td>\n",
              "      <td>11</td>\n",
              "      <td>140</td>\n",
              "      <td>0</td>\n",
              "      <td>Serra da Ibiapaba</td>\n",
              "      <td>2021</td>\n",
              "    </tr>\n",
              "    <tr>\n",
              "      <th>195184</th>\n",
              "      <td>Viçosa do Ceará</td>\n",
              "      <td>23</td>\n",
              "      <td>231410</td>\n",
              "      <td>2021-06-25</td>\n",
              "      <td>60889.0</td>\n",
              "      <td>4829.0</td>\n",
              "      <td>9</td>\n",
              "      <td>140</td>\n",
              "      <td>0</td>\n",
              "      <td>Serra da Ibiapaba</td>\n",
              "      <td>2021</td>\n",
              "    </tr>\n",
              "  </tbody>\n",
              "</table>\n",
              "<p>83904 rows × 11 columns</p>\n",
              "</div>"
            ],
            "text/plain": [
              "              municipio  coduf  codmun  ... obitosNovos             regiao   ano\n",
              "118343          Abaiara     23  230010  ...           0             Cariri  2020\n",
              "118344          Abaiara     23  230010  ...           0             Cariri  2020\n",
              "118345          Abaiara     23  230010  ...           0             Cariri  2020\n",
              "118346          Abaiara     23  230010  ...           0             Cariri  2020\n",
              "118347          Abaiara     23  230010  ...           0             Cariri  2020\n",
              "...                 ...    ...     ...  ...         ...                ...   ...\n",
              "195180  Viçosa do Ceará     23  231410  ...           0  Serra da Ibiapaba  2021\n",
              "195181  Viçosa do Ceará     23  231410  ...           0  Serra da Ibiapaba  2021\n",
              "195182  Viçosa do Ceará     23  231410  ...           0  Serra da Ibiapaba  2021\n",
              "195183  Viçosa do Ceará     23  231410  ...           0  Serra da Ibiapaba  2021\n",
              "195184  Viçosa do Ceará     23  231410  ...           0  Serra da Ibiapaba  2021\n",
              "\n",
              "[83904 rows x 11 columns]"
            ]
          },
          "metadata": {
            "tags": []
          },
          "execution_count": 36
        }
      ]
    },
    {
      "cell_type": "code",
      "metadata": {
        "colab": {
          "base_uri": "https://localhost:8080/",
          "height": 500
        },
        "id": "rA4vv-yivcol",
        "outputId": "2b0907ab-09d7-441a-aab3-9ad826fdd7c5"
      },
      "source": [
        "dados_municipios = dados_CE.groupby(by=['municipio','codmun']).sum()\n",
        "dados_municipios = dados_municipios.drop(columns=['coduf','ano','populacaoTCU2019'],axis=1)\n",
        "dados_municipios = dados_municipios.reset_index()\n",
        "dados_municipios=dados_municipios.set_index('codmun')\n",
        "dados_municipios['regiao'] = dados_municipios['municipio'].apply(regiao)\n",
        "dados_municipios"
      ],
      "execution_count": null,
      "outputs": [
        {
          "output_type": "execute_result",
          "data": {
            "text/html": [
              "<div>\n",
              "<style scoped>\n",
              "    .dataframe tbody tr th:only-of-type {\n",
              "        vertical-align: middle;\n",
              "    }\n",
              "\n",
              "    .dataframe tbody tr th {\n",
              "        vertical-align: top;\n",
              "    }\n",
              "\n",
              "    .dataframe thead th {\n",
              "        text-align: right;\n",
              "    }\n",
              "</style>\n",
              "<table border=\"1\" class=\"dataframe\">\n",
              "  <thead>\n",
              "    <tr style=\"text-align: right;\">\n",
              "      <th></th>\n",
              "      <th>municipio</th>\n",
              "      <th>casosAcumulado</th>\n",
              "      <th>casosNovos</th>\n",
              "      <th>obitosAcumulado</th>\n",
              "      <th>obitosNovos</th>\n",
              "      <th>regiao</th>\n",
              "    </tr>\n",
              "    <tr>\n",
              "      <th>codmun</th>\n",
              "      <th></th>\n",
              "      <th></th>\n",
              "      <th></th>\n",
              "      <th></th>\n",
              "      <th></th>\n",
              "      <th></th>\n",
              "    </tr>\n",
              "  </thead>\n",
              "  <tbody>\n",
              "    <tr>\n",
              "      <th>230010</th>\n",
              "      <td>Abaiara</td>\n",
              "      <td>72881.0</td>\n",
              "      <td>577</td>\n",
              "      <td>1794</td>\n",
              "      <td>15</td>\n",
              "      <td>Cariri</td>\n",
              "    </tr>\n",
              "    <tr>\n",
              "      <th>230015</th>\n",
              "      <td>Acarape</td>\n",
              "      <td>699618.0</td>\n",
              "      <td>2769</td>\n",
              "      <td>6284</td>\n",
              "      <td>27</td>\n",
              "      <td>Maciço de Baturité</td>\n",
              "    </tr>\n",
              "    <tr>\n",
              "      <th>230020</th>\n",
              "      <td>Acaraú</td>\n",
              "      <td>1173688.0</td>\n",
              "      <td>4874</td>\n",
              "      <td>24650</td>\n",
              "      <td>103</td>\n",
              "      <td>Litoral Norte</td>\n",
              "    </tr>\n",
              "    <tr>\n",
              "      <th>230030</th>\n",
              "      <td>Acopiara</td>\n",
              "      <td>559668.0</td>\n",
              "      <td>3596</td>\n",
              "      <td>22859</td>\n",
              "      <td>140</td>\n",
              "      <td>Centro-Sul</td>\n",
              "    </tr>\n",
              "    <tr>\n",
              "      <th>230040</th>\n",
              "      <td>Aiuaba</td>\n",
              "      <td>62230.0</td>\n",
              "      <td>744</td>\n",
              "      <td>1225</td>\n",
              "      <td>11</td>\n",
              "      <td>Sertão dos Inhamus</td>\n",
              "    </tr>\n",
              "    <tr>\n",
              "      <th>...</th>\n",
              "      <td>...</td>\n",
              "      <td>...</td>\n",
              "      <td>...</td>\n",
              "      <td>...</td>\n",
              "      <td>...</td>\n",
              "      <td>...</td>\n",
              "    </tr>\n",
              "    <tr>\n",
              "      <th>231380</th>\n",
              "      <td>Uruburetama</td>\n",
              "      <td>382540.0</td>\n",
              "      <td>1824</td>\n",
              "      <td>10877</td>\n",
              "      <td>56</td>\n",
              "      <td>Litoral Oeste</td>\n",
              "    </tr>\n",
              "    <tr>\n",
              "      <th>231390</th>\n",
              "      <td>Uruoca</td>\n",
              "      <td>274708.0</td>\n",
              "      <td>1451</td>\n",
              "      <td>6973</td>\n",
              "      <td>31</td>\n",
              "      <td>Litoral Norte</td>\n",
              "    </tr>\n",
              "    <tr>\n",
              "      <th>231395</th>\n",
              "      <td>Varjota</td>\n",
              "      <td>454691.0</td>\n",
              "      <td>2337</td>\n",
              "      <td>6237</td>\n",
              "      <td>29</td>\n",
              "      <td>Sertão de Sobral</td>\n",
              "    </tr>\n",
              "    <tr>\n",
              "      <th>231410</th>\n",
              "      <td>Viçosa do Ceará</td>\n",
              "      <td>880352.0</td>\n",
              "      <td>4829</td>\n",
              "      <td>25497</td>\n",
              "      <td>140</td>\n",
              "      <td>Serra da Ibiapaba</td>\n",
              "    </tr>\n",
              "    <tr>\n",
              "      <th>231400</th>\n",
              "      <td>Várzea Alegre</td>\n",
              "      <td>491356.0</td>\n",
              "      <td>3114</td>\n",
              "      <td>13367</td>\n",
              "      <td>68</td>\n",
              "      <td>Cariri</td>\n",
              "    </tr>\n",
              "  </tbody>\n",
              "</table>\n",
              "<p>184 rows × 6 columns</p>\n",
              "</div>"
            ],
            "text/plain": [
              "              municipio  casosAcumulado  ...  obitosNovos              regiao\n",
              "codmun                                   ...                                 \n",
              "230010          Abaiara         72881.0  ...           15              Cariri\n",
              "230015          Acarape        699618.0  ...           27  Maciço de Baturité\n",
              "230020           Acaraú       1173688.0  ...          103       Litoral Norte\n",
              "230030         Acopiara        559668.0  ...          140          Centro-Sul\n",
              "230040           Aiuaba         62230.0  ...           11  Sertão dos Inhamus\n",
              "...                 ...             ...  ...          ...                 ...\n",
              "231380      Uruburetama        382540.0  ...           56       Litoral Oeste\n",
              "231390           Uruoca        274708.0  ...           31       Litoral Norte\n",
              "231395          Varjota        454691.0  ...           29    Sertão de Sobral\n",
              "231410  Viçosa do Ceará        880352.0  ...          140   Serra da Ibiapaba\n",
              "231400    Várzea Alegre        491356.0  ...           68              Cariri\n",
              "\n",
              "[184 rows x 6 columns]"
            ]
          },
          "metadata": {
            "tags": []
          },
          "execution_count": 39
        }
      ]
    },
    {
      "cell_type": "markdown",
      "metadata": {
        "id": "k989-h4TlsgI"
      },
      "source": [
        "## DATAFRAME DOS MUNICIPIOS/ANO"
      ]
    },
    {
      "cell_type": "markdown",
      "metadata": {
        "id": "v3YzrZZiVgrp"
      },
      "source": [
        "Dataframe relativos aos casos de COVID no Ceará por municipios, divididos nos anos de 2020 e 2021(até o dia 25/06/2021)"
      ]
    },
    {
      "cell_type": "code",
      "metadata": {
        "colab": {
          "base_uri": "https://localhost:8080/",
          "height": 672
        },
        "id": "2Cxp27w8lxZh",
        "outputId": "de15b25e-c706-4b0e-fd09-d994c12995af"
      },
      "source": [
        "dados_municipios_2020 = dados_2020.groupby(by=['municipio','codmun']).sum()\n",
        "dados_municipios_2020 = dados_municipios_2020.drop(columns=['coduf','ano'],axis=1)\n",
        "dados_municipios_2020 = dados_municipios_2020.reset_index()\n",
        "dados_municipios_2020=dados_municipios_2020.set_index('codmun')\n",
        "dados_municipios_2020['regiao'] = dados_municipios_2020['municipio'].apply(regiao)\n",
        "dados_municipios_2020"
      ],
      "execution_count": null,
      "outputs": [
        {
          "output_type": "execute_result",
          "data": {
            "text/html": [
              "<div>\n",
              "<style scoped>\n",
              "    .dataframe tbody tr th:only-of-type {\n",
              "        vertical-align: middle;\n",
              "    }\n",
              "\n",
              "    .dataframe tbody tr th {\n",
              "        vertical-align: top;\n",
              "    }\n",
              "\n",
              "    .dataframe thead th {\n",
              "        text-align: right;\n",
              "    }\n",
              "</style>\n",
              "<table border=\"1\" class=\"dataframe\">\n",
              "  <thead>\n",
              "    <tr style=\"text-align: right;\">\n",
              "      <th></th>\n",
              "      <th>municipio</th>\n",
              "      <th>populacaoTCU2019</th>\n",
              "      <th>casosAcumulado</th>\n",
              "      <th>casosNovos</th>\n",
              "      <th>obitosAcumulado</th>\n",
              "      <th>obitosNovos</th>\n",
              "      <th>regiao</th>\n",
              "    </tr>\n",
              "    <tr>\n",
              "      <th>codmun</th>\n",
              "      <th></th>\n",
              "      <th></th>\n",
              "      <th></th>\n",
              "      <th></th>\n",
              "      <th></th>\n",
              "      <th></th>\n",
              "      <th></th>\n",
              "    </tr>\n",
              "  </thead>\n",
              "  <tbody>\n",
              "    <tr>\n",
              "      <th>230010</th>\n",
              "      <td>Abaiara</td>\n",
              "      <td>3286360.0</td>\n",
              "      <td>15909.0</td>\n",
              "      <td>160</td>\n",
              "      <td>468</td>\n",
              "      <td>4</td>\n",
              "      <td>Cariri</td>\n",
              "    </tr>\n",
              "    <tr>\n",
              "      <th>230015</th>\n",
              "      <td>Acarape</td>\n",
              "      <td>4180120.0</td>\n",
              "      <td>299547.0</td>\n",
              "      <td>1949</td>\n",
              "      <td>3019</td>\n",
              "      <td>14</td>\n",
              "      <td>Maciço de Baturité</td>\n",
              "    </tr>\n",
              "    <tr>\n",
              "      <th>230020</th>\n",
              "      <td>Acaraú</td>\n",
              "      <td>17539480.0</td>\n",
              "      <td>513339.0</td>\n",
              "      <td>2760</td>\n",
              "      <td>11285</td>\n",
              "      <td>58</td>\n",
              "      <td>Litoral Norte</td>\n",
              "    </tr>\n",
              "    <tr>\n",
              "      <th>230030</th>\n",
              "      <td>Acopiara</td>\n",
              "      <td>15195600.0</td>\n",
              "      <td>173778.0</td>\n",
              "      <td>1366</td>\n",
              "      <td>7238</td>\n",
              "      <td>57</td>\n",
              "      <td>Centro-Sul</td>\n",
              "    </tr>\n",
              "    <tr>\n",
              "      <th>230040</th>\n",
              "      <td>Aiuaba</td>\n",
              "      <td>4871720.0</td>\n",
              "      <td>7907.0</td>\n",
              "      <td>76</td>\n",
              "      <td>193</td>\n",
              "      <td>1</td>\n",
              "      <td>Sertão dos Inhamus</td>\n",
              "    </tr>\n",
              "    <tr>\n",
              "      <th>...</th>\n",
              "      <td>...</td>\n",
              "      <td>...</td>\n",
              "      <td>...</td>\n",
              "      <td>...</td>\n",
              "      <td>...</td>\n",
              "      <td>...</td>\n",
              "      <td>...</td>\n",
              "    </tr>\n",
              "    <tr>\n",
              "      <th>231380</th>\n",
              "      <td>Uruburetama</td>\n",
              "      <td>6118000.0</td>\n",
              "      <td>149762.0</td>\n",
              "      <td>816</td>\n",
              "      <td>4070</td>\n",
              "      <td>22</td>\n",
              "      <td>Litoral Oeste</td>\n",
              "    </tr>\n",
              "    <tr>\n",
              "      <th>231390</th>\n",
              "      <td>Uruoca</td>\n",
              "      <td>3875200.0</td>\n",
              "      <td>105279.0</td>\n",
              "      <td>659</td>\n",
              "      <td>2940</td>\n",
              "      <td>17</td>\n",
              "      <td>Litoral Norte</td>\n",
              "    </tr>\n",
              "    <tr>\n",
              "      <th>231395</th>\n",
              "      <td>Varjota</td>\n",
              "      <td>5157600.0</td>\n",
              "      <td>169229.0</td>\n",
              "      <td>1235</td>\n",
              "      <td>2539</td>\n",
              "      <td>18</td>\n",
              "      <td>Sertão de Sobral</td>\n",
              "    </tr>\n",
              "    <tr>\n",
              "      <th>231410</th>\n",
              "      <td>Viçosa do Ceará</td>\n",
              "      <td>17048920.0</td>\n",
              "      <td>339786.0</td>\n",
              "      <td>2157</td>\n",
              "      <td>10004</td>\n",
              "      <td>63</td>\n",
              "      <td>Serra da Ibiapaba</td>\n",
              "    </tr>\n",
              "    <tr>\n",
              "      <th>231400</th>\n",
              "      <td>Várzea Alegre</td>\n",
              "      <td>11401880.0</td>\n",
              "      <td>152096.0</td>\n",
              "      <td>1122</td>\n",
              "      <td>4827</td>\n",
              "      <td>35</td>\n",
              "      <td>Cariri</td>\n",
              "    </tr>\n",
              "  </tbody>\n",
              "</table>\n",
              "<p>184 rows × 7 columns</p>\n",
              "</div>"
            ],
            "text/plain": [
              "              municipio  populacaoTCU2019  ...  obitosNovos              regiao\n",
              "codmun                                     ...                                 \n",
              "230010          Abaiara         3286360.0  ...            4              Cariri\n",
              "230015          Acarape         4180120.0  ...           14  Maciço de Baturité\n",
              "230020           Acaraú        17539480.0  ...           58       Litoral Norte\n",
              "230030         Acopiara        15195600.0  ...           57          Centro-Sul\n",
              "230040           Aiuaba         4871720.0  ...            1  Sertão dos Inhamus\n",
              "...                 ...               ...  ...          ...                 ...\n",
              "231380      Uruburetama         6118000.0  ...           22       Litoral Oeste\n",
              "231390           Uruoca         3875200.0  ...           17       Litoral Norte\n",
              "231395          Varjota         5157600.0  ...           18    Sertão de Sobral\n",
              "231410  Viçosa do Ceará        17048920.0  ...           63   Serra da Ibiapaba\n",
              "231400    Várzea Alegre        11401880.0  ...           35              Cariri\n",
              "\n",
              "[184 rows x 7 columns]"
            ]
          },
          "metadata": {
            "tags": []
          },
          "execution_count": 30
        }
      ]
    },
    {
      "cell_type": "code",
      "metadata": {
        "colab": {
          "base_uri": "https://localhost:8080/",
          "height": 672
        },
        "id": "i_Lcpc04mqnJ",
        "outputId": "e7d21c49-187e-43c7-de29-c882fe8c7bc2"
      },
      "source": [
        "dados_municipios_2021 = dados_2021.groupby(by=['municipio','codmun']).sum()\n",
        "dados_municipios_2021 = dados_municipios_2021.drop(columns=['coduf','ano'],axis=1)\n",
        "dados_municipios_2021 = dados_municipios_2021.reset_index()\n",
        "dados_municipios_2021 = dados_municipios_2021.set_index('codmun')\n",
        "dados_municipios_2021['regiao'] = dados_municipios_2021['municipio'].apply(regiao)\n",
        "dados_municipios_2021"
      ],
      "execution_count": null,
      "outputs": [
        {
          "output_type": "execute_result",
          "data": {
            "text/html": [
              "<div>\n",
              "<style scoped>\n",
              "    .dataframe tbody tr th:only-of-type {\n",
              "        vertical-align: middle;\n",
              "    }\n",
              "\n",
              "    .dataframe tbody tr th {\n",
              "        vertical-align: top;\n",
              "    }\n",
              "\n",
              "    .dataframe thead th {\n",
              "        text-align: right;\n",
              "    }\n",
              "</style>\n",
              "<table border=\"1\" class=\"dataframe\">\n",
              "  <thead>\n",
              "    <tr style=\"text-align: right;\">\n",
              "      <th></th>\n",
              "      <th>municipio</th>\n",
              "      <th>populacaoTCU2019</th>\n",
              "      <th>casosAcumulado</th>\n",
              "      <th>casosNovos</th>\n",
              "      <th>obitosAcumulado</th>\n",
              "      <th>obitosNovos</th>\n",
              "      <th>regiao</th>\n",
              "    </tr>\n",
              "    <tr>\n",
              "      <th>codmun</th>\n",
              "      <th></th>\n",
              "      <th></th>\n",
              "      <th></th>\n",
              "      <th></th>\n",
              "      <th></th>\n",
              "      <th></th>\n",
              "      <th></th>\n",
              "    </tr>\n",
              "  </thead>\n",
              "  <tbody>\n",
              "    <tr>\n",
              "      <th>230010</th>\n",
              "      <td>Abaiara</td>\n",
              "      <td>2065712.0</td>\n",
              "      <td>56972.0</td>\n",
              "      <td>417</td>\n",
              "      <td>1326</td>\n",
              "      <td>11</td>\n",
              "      <td>Cariri</td>\n",
              "    </tr>\n",
              "    <tr>\n",
              "      <th>230015</th>\n",
              "      <td>Acarape</td>\n",
              "      <td>2627504.0</td>\n",
              "      <td>400071.0</td>\n",
              "      <td>820</td>\n",
              "      <td>3265</td>\n",
              "      <td>13</td>\n",
              "      <td>Maciço de Baturité</td>\n",
              "    </tr>\n",
              "    <tr>\n",
              "      <th>230020</th>\n",
              "      <td>Acaraú</td>\n",
              "      <td>11024816.0</td>\n",
              "      <td>660349.0</td>\n",
              "      <td>2114</td>\n",
              "      <td>13365</td>\n",
              "      <td>45</td>\n",
              "      <td>Litoral Norte</td>\n",
              "    </tr>\n",
              "    <tr>\n",
              "      <th>230030</th>\n",
              "      <td>Acopiara</td>\n",
              "      <td>9551520.0</td>\n",
              "      <td>385890.0</td>\n",
              "      <td>2230</td>\n",
              "      <td>15621</td>\n",
              "      <td>83</td>\n",
              "      <td>Centro-Sul</td>\n",
              "    </tr>\n",
              "    <tr>\n",
              "      <th>230040</th>\n",
              "      <td>Aiuaba</td>\n",
              "      <td>3062224.0</td>\n",
              "      <td>54323.0</td>\n",
              "      <td>668</td>\n",
              "      <td>1032</td>\n",
              "      <td>10</td>\n",
              "      <td>Sertão dos Inhamus</td>\n",
              "    </tr>\n",
              "    <tr>\n",
              "      <th>...</th>\n",
              "      <td>...</td>\n",
              "      <td>...</td>\n",
              "      <td>...</td>\n",
              "      <td>...</td>\n",
              "      <td>...</td>\n",
              "      <td>...</td>\n",
              "      <td>...</td>\n",
              "    </tr>\n",
              "    <tr>\n",
              "      <th>231380</th>\n",
              "      <td>Uruburetama</td>\n",
              "      <td>3845600.0</td>\n",
              "      <td>232778.0</td>\n",
              "      <td>1008</td>\n",
              "      <td>6807</td>\n",
              "      <td>34</td>\n",
              "      <td>Litoral Oeste</td>\n",
              "    </tr>\n",
              "    <tr>\n",
              "      <th>231390</th>\n",
              "      <td>Uruoca</td>\n",
              "      <td>2435840.0</td>\n",
              "      <td>169429.0</td>\n",
              "      <td>792</td>\n",
              "      <td>4033</td>\n",
              "      <td>14</td>\n",
              "      <td>Litoral Norte</td>\n",
              "    </tr>\n",
              "    <tr>\n",
              "      <th>231395</th>\n",
              "      <td>Varjota</td>\n",
              "      <td>3241920.0</td>\n",
              "      <td>285462.0</td>\n",
              "      <td>1102</td>\n",
              "      <td>3698</td>\n",
              "      <td>11</td>\n",
              "      <td>Sertão de Sobral</td>\n",
              "    </tr>\n",
              "    <tr>\n",
              "      <th>231410</th>\n",
              "      <td>Viçosa do Ceará</td>\n",
              "      <td>10716464.0</td>\n",
              "      <td>540566.0</td>\n",
              "      <td>2672</td>\n",
              "      <td>15493</td>\n",
              "      <td>77</td>\n",
              "      <td>Serra da Ibiapaba</td>\n",
              "    </tr>\n",
              "    <tr>\n",
              "      <th>231400</th>\n",
              "      <td>Várzea Alegre</td>\n",
              "      <td>7166896.0</td>\n",
              "      <td>339260.0</td>\n",
              "      <td>1992</td>\n",
              "      <td>8540</td>\n",
              "      <td>33</td>\n",
              "      <td>Cariri</td>\n",
              "    </tr>\n",
              "  </tbody>\n",
              "</table>\n",
              "<p>184 rows × 7 columns</p>\n",
              "</div>"
            ],
            "text/plain": [
              "              municipio  populacaoTCU2019  ...  obitosNovos              regiao\n",
              "codmun                                     ...                                 \n",
              "230010          Abaiara         2065712.0  ...           11              Cariri\n",
              "230015          Acarape         2627504.0  ...           13  Maciço de Baturité\n",
              "230020           Acaraú        11024816.0  ...           45       Litoral Norte\n",
              "230030         Acopiara         9551520.0  ...           83          Centro-Sul\n",
              "230040           Aiuaba         3062224.0  ...           10  Sertão dos Inhamus\n",
              "...                 ...               ...  ...          ...                 ...\n",
              "231380      Uruburetama         3845600.0  ...           34       Litoral Oeste\n",
              "231390           Uruoca         2435840.0  ...           14       Litoral Norte\n",
              "231395          Varjota         3241920.0  ...           11    Sertão de Sobral\n",
              "231410  Viçosa do Ceará        10716464.0  ...           77   Serra da Ibiapaba\n",
              "231400    Várzea Alegre         7166896.0  ...           33              Cariri\n",
              "\n",
              "[184 rows x 7 columns]"
            ]
          },
          "metadata": {
            "tags": []
          },
          "execution_count": 31
        }
      ]
    },
    {
      "cell_type": "markdown",
      "metadata": {
        "id": "SsJ1QLIw3AZv"
      },
      "source": [
        "## DATAFRAME MAPA"
      ]
    },
    {
      "cell_type": "markdown",
      "metadata": {
        "id": "iIXoO71fVmF9"
      },
      "source": [
        "Arquivos geodataframe, contendo a espacialização das informações em arquivos shapefiles "
      ]
    },
    {
      "cell_type": "markdown",
      "metadata": {
        "id": "1re7-lRsqVFL"
      },
      "source": [
        "Incorporando o shape pelo codmun"
      ]
    },
    {
      "cell_type": "code",
      "metadata": {
        "colab": {
          "base_uri": "https://localhost:8080/",
          "height": 418
        },
        "id": "fP7O3I1nmaBx",
        "outputId": "4d9fa7c8-2651-4198-8a29-9694b9218a28"
      },
      "source": [
        "df_mapa = gpd.read_file('/content/drive/MyDrive/BOOTCAMP - ALURA/Projeto/Arquivos Projeto 3/shapes/23MUE250GC_SIR_SIRGAS2000.shp')\n",
        "df_mapa"
      ],
      "execution_count": null,
      "outputs": [
        {
          "output_type": "execute_result",
          "data": {
            "text/html": [
              "<div>\n",
              "<style scoped>\n",
              "    .dataframe tbody tr th:only-of-type {\n",
              "        vertical-align: middle;\n",
              "    }\n",
              "\n",
              "    .dataframe tbody tr th {\n",
              "        vertical-align: top;\n",
              "    }\n",
              "\n",
              "    .dataframe thead th {\n",
              "        text-align: right;\n",
              "    }\n",
              "</style>\n",
              "<table border=\"1\" class=\"dataframe\">\n",
              "  <thead>\n",
              "    <tr style=\"text-align: right;\">\n",
              "      <th></th>\n",
              "      <th>ID</th>\n",
              "      <th>CD_GEOCODM</th>\n",
              "      <th>NM_MUNICIP</th>\n",
              "      <th>geometry</th>\n",
              "    </tr>\n",
              "  </thead>\n",
              "  <tbody>\n",
              "    <tr>\n",
              "      <th>0</th>\n",
              "      <td>218</td>\n",
              "      <td>2300101</td>\n",
              "      <td>ABAIARA</td>\n",
              "      <td>POLYGON ((490898.430 9193553.840, 490786.024 9...</td>\n",
              "    </tr>\n",
              "    <tr>\n",
              "      <th>1</th>\n",
              "      <td>219</td>\n",
              "      <td>2300150</td>\n",
              "      <td>ACARAPE</td>\n",
              "      <td>POLYGON ((536322.319 9527585.747, 536322.319 9...</td>\n",
              "    </tr>\n",
              "    <tr>\n",
              "      <th>2</th>\n",
              "      <td>220</td>\n",
              "      <td>2300200</td>\n",
              "      <td>ACARAÚ</td>\n",
              "      <td>POLYGON ((389866.560 9657526.188, 389861.809 9...</td>\n",
              "    </tr>\n",
              "    <tr>\n",
              "      <th>3</th>\n",
              "      <td>221</td>\n",
              "      <td>2300309</td>\n",
              "      <td>ACOPIARA</td>\n",
              "      <td>POLYGON ((476327.601 9337702.456, 476451.750 9...</td>\n",
              "    </tr>\n",
              "    <tr>\n",
              "      <th>4</th>\n",
              "      <td>222</td>\n",
              "      <td>2300408</td>\n",
              "      <td>AIUABA</td>\n",
              "      <td>POLYGON ((372974.464 9296802.433, 373011.961 9...</td>\n",
              "    </tr>\n",
              "    <tr>\n",
              "      <th>...</th>\n",
              "      <td>...</td>\n",
              "      <td>...</td>\n",
              "      <td>...</td>\n",
              "      <td>...</td>\n",
              "    </tr>\n",
              "    <tr>\n",
              "      <th>179</th>\n",
              "      <td>397</td>\n",
              "      <td>2313807</td>\n",
              "      <td>URUBURETAMA</td>\n",
              "      <td>POLYGON ((438818.147 9603999.620, 440919.566 9...</td>\n",
              "    </tr>\n",
              "    <tr>\n",
              "      <th>180</th>\n",
              "      <td>398</td>\n",
              "      <td>2313906</td>\n",
              "      <td>URUOCA</td>\n",
              "      <td>POLYGON ((310312.845 9641811.586, 310751.110 9...</td>\n",
              "    </tr>\n",
              "    <tr>\n",
              "      <th>181</th>\n",
              "      <td>399</td>\n",
              "      <td>2313955</td>\n",
              "      <td>VARJOTA</td>\n",
              "      <td>POLYGON ((327126.716 9534587.500, 327000.350 9...</td>\n",
              "    </tr>\n",
              "    <tr>\n",
              "      <th>182</th>\n",
              "      <td>400</td>\n",
              "      <td>2314003</td>\n",
              "      <td>VÁRZEA ALEGRE</td>\n",
              "      <td>POLYGON ((467947.418 9264066.859, 467947.419 9...</td>\n",
              "    </tr>\n",
              "    <tr>\n",
              "      <th>183</th>\n",
              "      <td>401</td>\n",
              "      <td>2314102</td>\n",
              "      <td>VIÇOSA DO CEARÁ</td>\n",
              "      <td>POLYGON ((249921.137 9614297.267, 250218.315 9...</td>\n",
              "    </tr>\n",
              "  </tbody>\n",
              "</table>\n",
              "<p>184 rows × 4 columns</p>\n",
              "</div>"
            ],
            "text/plain": [
              "      ID  ...                                           geometry\n",
              "0    218  ...  POLYGON ((490898.430 9193553.840, 490786.024 9...\n",
              "1    219  ...  POLYGON ((536322.319 9527585.747, 536322.319 9...\n",
              "2    220  ...  POLYGON ((389866.560 9657526.188, 389861.809 9...\n",
              "3    221  ...  POLYGON ((476327.601 9337702.456, 476451.750 9...\n",
              "4    222  ...  POLYGON ((372974.464 9296802.433, 373011.961 9...\n",
              "..   ...  ...                                                ...\n",
              "179  397  ...  POLYGON ((438818.147 9603999.620, 440919.566 9...\n",
              "180  398  ...  POLYGON ((310312.845 9641811.586, 310751.110 9...\n",
              "181  399  ...  POLYGON ((327126.716 9534587.500, 327000.350 9...\n",
              "182  400  ...  POLYGON ((467947.418 9264066.859, 467947.419 9...\n",
              "183  401  ...  POLYGON ((249921.137 9614297.267, 250218.315 9...\n",
              "\n",
              "[184 rows x 4 columns]"
            ]
          },
          "metadata": {
            "tags": []
          },
          "execution_count": 32
        }
      ]
    },
    {
      "cell_type": "markdown",
      "metadata": {
        "id": "iDS4yphHVySV"
      },
      "source": [
        "Aplicando  a função **prepara_mapa**"
      ]
    },
    {
      "cell_type": "code",
      "metadata": {
        "id": "H2WRD_tZ6qjv"
      },
      "source": [
        "df_mapa = prepara_mapa(df_mapa,'CD_GEOCODM')\n",
        "df_mapa=df_mapa.set_index('codmun')"
      ],
      "execution_count": null,
      "outputs": []
    },
    {
      "cell_type": "markdown",
      "metadata": {
        "id": "c9IP2ItZV2ge"
      },
      "source": [
        "Transformando os mapas em Geo Dataframe"
      ]
    },
    {
      "cell_type": "code",
      "metadata": {
        "id": "ZsCNqZxSckkQ"
      },
      "source": [
        "#Criando os dataframes dos mapas e transformando-os em GeodataFrames\n",
        "mapa_2020 = pd.merge(dados_municipios_2020, df_mapa, how = 'inner',on = 'codmun')\n",
        "mapa_2020 = GeoDataFrame(mapa_2020)\n",
        "\n",
        "#Criando os dataframes dos mapas e transformando-os em GeodataFrames\n",
        "mapa_2021 = pd.merge(dados_municipios_2021, df_mapa, how = 'inner',on = 'codmun')\n",
        "mapa_2021 = GeoDataFrame(mapa_2021)\n",
        "\n",
        "mapa_total = pd.merge(dados_municipios,df_mapa, how = 'inner',on = 'codmun')\n",
        "mapa_total = GeoDataFrame(mapa_total)"
      ],
      "execution_count": null,
      "outputs": []
    },
    {
      "cell_type": "code",
      "metadata": {
        "colab": {
          "base_uri": "https://localhost:8080/",
          "height": 586
        },
        "id": "dnJgTPsIdR8B",
        "outputId": "a50cf56e-1642-4b09-a851-072b74977b0d"
      },
      "source": [
        "display(mapa_2020.isnull().sum())\n",
        "\n",
        "display(mapa_2021.isnull().sum())\n",
        "\n",
        "display(mapa_total.isnull().sum())"
      ],
      "execution_count": null,
      "outputs": [
        {
          "output_type": "display_data",
          "data": {
            "text/plain": [
              "municipio           0\n",
              "populacaoTCU2019    0\n",
              "casosAcumulado      0\n",
              "casosNovos          0\n",
              "obitosAcumulado     0\n",
              "obitosNovos         0\n",
              "regiao              0\n",
              "geometry            0\n",
              "id                  0\n",
              "cod_IBGE            0\n",
              "dtype: int64"
            ]
          },
          "metadata": {
            "tags": []
          }
        },
        {
          "output_type": "display_data",
          "data": {
            "text/plain": [
              "municipio           0\n",
              "populacaoTCU2019    0\n",
              "casosAcumulado      0\n",
              "casosNovos          0\n",
              "obitosAcumulado     0\n",
              "obitosNovos         0\n",
              "regiao              0\n",
              "geometry            0\n",
              "id                  0\n",
              "cod_IBGE            0\n",
              "dtype: int64"
            ]
          },
          "metadata": {
            "tags": []
          }
        },
        {
          "output_type": "display_data",
          "data": {
            "text/plain": [
              "municipio          0\n",
              "casosAcumulado     0\n",
              "casosNovos         0\n",
              "obitosAcumulado    0\n",
              "obitosNovos        0\n",
              "regiao             0\n",
              "geometry           0\n",
              "id                 0\n",
              "cod_IBGE           0\n",
              "dtype: int64"
            ]
          },
          "metadata": {
            "tags": []
          }
        }
      ]
    },
    {
      "cell_type": "markdown",
      "metadata": {
        "id": "_ImadwHaeb1p"
      },
      "source": [
        "Como visto nenhum dado deu 0 portanto deu tudo certo"
      ]
    },
    {
      "cell_type": "markdown",
      "metadata": {
        "id": "NCYqmzkbkNVq"
      },
      "source": [
        "# **EXPORTANDO TODOS OS ARQUIVOS**"
      ]
    },
    {
      "cell_type": "markdown",
      "metadata": {
        "id": "amcqP21nuTLN"
      },
      "source": [
        "Resetando os indexs"
      ]
    },
    {
      "cell_type": "code",
      "metadata": {
        "id": "3zY_Z1FfuJ4P"
      },
      "source": [
        "dados_CE=dados_CE.reset_index()\n",
        "\n",
        "dados_2020=dados_2020.reset_index()\n",
        "dados_2021=dados_2021.reset_index()\n",
        "\n",
        "dados_regiao_2020=dados_regiao_2020.reset_index()\n",
        "dados_regiao_2021=dados_regiao_2021.reset_index()\n",
        "\n",
        "dados_municipios_2020=dados_municipios_2020.reset_index()\n",
        "dados_municipios_2021=dados_municipios_2021.reset_index()"
      ],
      "execution_count": null,
      "outputs": []
    },
    {
      "cell_type": "markdown",
      "metadata": {
        "id": "9EDOUk_KsQyv"
      },
      "source": [
        "Exportando os **CSV**"
      ]
    },
    {
      "cell_type": "code",
      "metadata": {
        "colab": {
          "base_uri": "https://localhost:8080/"
        },
        "id": "KBMPp72_ooqW",
        "outputId": "1fd6fc9a-834a-41fe-811d-38d96f3348cc"
      },
      "source": [
        "#Exportando os csv\n",
        "#1 CEARÁ POR MUNICIPIOS\n",
        "dados_CE.to_csv('Casos_COVID-19_CEARÁ_.csv',index=False)\n",
        "files.download('Casos_COVID-19_CEARÁ_.csv')\n",
        "\n",
        "#2 CADA ANO\n",
        "dados_2020.to_csv('Casos_COVID-19_CEARÁ_2020.csv',index=False)\n",
        "files.download('Casos_COVID-19_CEARÁ_2020.csv')\n",
        "\n",
        "dados_2021.to_csv('Casos_COVID-19_CEARÁ_2021.csv',index=False)\n",
        "files.download('Casos_COVID-19_CEARÁ_2021.csv')\n",
        "\n",
        "#3 AGRUPADO POR REGIÃO\n",
        "dados_regiao_2020.to_csv('Casos_COVID-19_REGIÕES_CEARÁ_2020.csv',index=False)\n",
        "files.download('Casos_COVID-19_REGIÕES_CEARÁ_2020.csv')\n",
        "\n",
        "dados_regiao_2021.to_csv('Casos_COVID-19_REGIÕES_CEARÁ_2021.csv',index=False)\n",
        "files.download('Casos_COVID-19_REGIÕES_CEARÁ_2021.csv')\n",
        "\n",
        "#3 AGRUPADO POR MUNICIPIO\n",
        "\n",
        "dados_municipios.to_csv('Casos_COVID-19_MUNICIPIOS_CEARÁ.csv',index=False)\n",
        "files.download('Casos_COVID-19_MUNICIPIOS_CEARÁ.csv')\n",
        "\n",
        "dados_municipios_2020.to_csv('Casos_COVID-19_MUNICIPIOS_CEARÁ_2020.csv',index=False)\n",
        "files.download('Casos_COVID-19_MUNICIPIOS_CEARÁ_2020.csv')\n",
        "\n",
        "dados_municipios_2021.to_csv('Casos_COVID-19_MUNICIPIOS_CEARÁ_2021.csv',index=False)\n",
        "files.download('Casos_COVID-19_MUNICIPIOS_CEARÁ_2021.csv')"
      ],
      "execution_count": null,
      "outputs": [
        {
          "output_type": "display_data",
          "data": {
            "application/javascript": [
              "\n",
              "    async function download(id, filename, size) {\n",
              "      if (!google.colab.kernel.accessAllowed) {\n",
              "        return;\n",
              "      }\n",
              "      const div = document.createElement('div');\n",
              "      const label = document.createElement('label');\n",
              "      label.textContent = `Downloading \"${filename}\": `;\n",
              "      div.appendChild(label);\n",
              "      const progress = document.createElement('progress');\n",
              "      progress.max = size;\n",
              "      div.appendChild(progress);\n",
              "      document.body.appendChild(div);\n",
              "\n",
              "      const buffers = [];\n",
              "      let downloaded = 0;\n",
              "\n",
              "      const channel = await google.colab.kernel.comms.open(id);\n",
              "      // Send a message to notify the kernel that we're ready.\n",
              "      channel.send({})\n",
              "\n",
              "      for await (const message of channel.messages) {\n",
              "        // Send a message to notify the kernel that we're ready.\n",
              "        channel.send({})\n",
              "        if (message.buffers) {\n",
              "          for (const buffer of message.buffers) {\n",
              "            buffers.push(buffer);\n",
              "            downloaded += buffer.byteLength;\n",
              "            progress.value = downloaded;\n",
              "          }\n",
              "        }\n",
              "      }\n",
              "      const blob = new Blob(buffers, {type: 'application/binary'});\n",
              "      const a = document.createElement('a');\n",
              "      a.href = window.URL.createObjectURL(blob);\n",
              "      a.download = filename;\n",
              "      div.appendChild(a);\n",
              "      a.click();\n",
              "      div.remove();\n",
              "    }\n",
              "  "
            ],
            "text/plain": [
              "<IPython.core.display.Javascript object>"
            ]
          },
          "metadata": {
            "tags": []
          }
        },
        {
          "output_type": "display_data",
          "data": {
            "application/javascript": [
              "download(\"download_a8f8dce8-e228-407d-a924-1dfc5baeae29\", \"Casos_COVID-19_CEAR\\u00c1_.csv\", 6718489)"
            ],
            "text/plain": [
              "<IPython.core.display.Javascript object>"
            ]
          },
          "metadata": {
            "tags": []
          }
        },
        {
          "output_type": "display_data",
          "data": {
            "application/javascript": [
              "\n",
              "    async function download(id, filename, size) {\n",
              "      if (!google.colab.kernel.accessAllowed) {\n",
              "        return;\n",
              "      }\n",
              "      const div = document.createElement('div');\n",
              "      const label = document.createElement('label');\n",
              "      label.textContent = `Downloading \"${filename}\": `;\n",
              "      div.appendChild(label);\n",
              "      const progress = document.createElement('progress');\n",
              "      progress.max = size;\n",
              "      div.appendChild(progress);\n",
              "      document.body.appendChild(div);\n",
              "\n",
              "      const buffers = [];\n",
              "      let downloaded = 0;\n",
              "\n",
              "      const channel = await google.colab.kernel.comms.open(id);\n",
              "      // Send a message to notify the kernel that we're ready.\n",
              "      channel.send({})\n",
              "\n",
              "      for await (const message of channel.messages) {\n",
              "        // Send a message to notify the kernel that we're ready.\n",
              "        channel.send({})\n",
              "        if (message.buffers) {\n",
              "          for (const buffer of message.buffers) {\n",
              "            buffers.push(buffer);\n",
              "            downloaded += buffer.byteLength;\n",
              "            progress.value = downloaded;\n",
              "          }\n",
              "        }\n",
              "      }\n",
              "      const blob = new Blob(buffers, {type: 'application/binary'});\n",
              "      const a = document.createElement('a');\n",
              "      a.href = window.URL.createObjectURL(blob);\n",
              "      a.download = filename;\n",
              "      div.appendChild(a);\n",
              "      a.click();\n",
              "      div.remove();\n",
              "    }\n",
              "  "
            ],
            "text/plain": [
              "<IPython.core.display.Javascript object>"
            ]
          },
          "metadata": {
            "tags": []
          }
        },
        {
          "output_type": "display_data",
          "data": {
            "application/javascript": [
              "download(\"download_34d91ccc-8203-4dbf-b4ae-968f77283450\", \"Casos_COVID-19_CEAR\\u00c1_2020.csv\", 4093833)"
            ],
            "text/plain": [
              "<IPython.core.display.Javascript object>"
            ]
          },
          "metadata": {
            "tags": []
          }
        },
        {
          "output_type": "display_data",
          "data": {
            "application/javascript": [
              "\n",
              "    async function download(id, filename, size) {\n",
              "      if (!google.colab.kernel.accessAllowed) {\n",
              "        return;\n",
              "      }\n",
              "      const div = document.createElement('div');\n",
              "      const label = document.createElement('label');\n",
              "      label.textContent = `Downloading \"${filename}\": `;\n",
              "      div.appendChild(label);\n",
              "      const progress = document.createElement('progress');\n",
              "      progress.max = size;\n",
              "      div.appendChild(progress);\n",
              "      document.body.appendChild(div);\n",
              "\n",
              "      const buffers = [];\n",
              "      let downloaded = 0;\n",
              "\n",
              "      const channel = await google.colab.kernel.comms.open(id);\n",
              "      // Send a message to notify the kernel that we're ready.\n",
              "      channel.send({})\n",
              "\n",
              "      for await (const message of channel.messages) {\n",
              "        // Send a message to notify the kernel that we're ready.\n",
              "        channel.send({})\n",
              "        if (message.buffers) {\n",
              "          for (const buffer of message.buffers) {\n",
              "            buffers.push(buffer);\n",
              "            downloaded += buffer.byteLength;\n",
              "            progress.value = downloaded;\n",
              "          }\n",
              "        }\n",
              "      }\n",
              "      const blob = new Blob(buffers, {type: 'application/binary'});\n",
              "      const a = document.createElement('a');\n",
              "      a.href = window.URL.createObjectURL(blob);\n",
              "      a.download = filename;\n",
              "      div.appendChild(a);\n",
              "      a.click();\n",
              "      div.remove();\n",
              "    }\n",
              "  "
            ],
            "text/plain": [
              "<IPython.core.display.Javascript object>"
            ]
          },
          "metadata": {
            "tags": []
          }
        },
        {
          "output_type": "display_data",
          "data": {
            "application/javascript": [
              "download(\"download_4d45921e-b96f-4659-946d-2909f37b6a14\", \"Casos_COVID-19_CEAR\\u00c1_2021.csv\", 2624772)"
            ],
            "text/plain": [
              "<IPython.core.display.Javascript object>"
            ]
          },
          "metadata": {
            "tags": []
          }
        },
        {
          "output_type": "display_data",
          "data": {
            "application/javascript": [
              "\n",
              "    async function download(id, filename, size) {\n",
              "      if (!google.colab.kernel.accessAllowed) {\n",
              "        return;\n",
              "      }\n",
              "      const div = document.createElement('div');\n",
              "      const label = document.createElement('label');\n",
              "      label.textContent = `Downloading \"${filename}\": `;\n",
              "      div.appendChild(label);\n",
              "      const progress = document.createElement('progress');\n",
              "      progress.max = size;\n",
              "      div.appendChild(progress);\n",
              "      document.body.appendChild(div);\n",
              "\n",
              "      const buffers = [];\n",
              "      let downloaded = 0;\n",
              "\n",
              "      const channel = await google.colab.kernel.comms.open(id);\n",
              "      // Send a message to notify the kernel that we're ready.\n",
              "      channel.send({})\n",
              "\n",
              "      for await (const message of channel.messages) {\n",
              "        // Send a message to notify the kernel that we're ready.\n",
              "        channel.send({})\n",
              "        if (message.buffers) {\n",
              "          for (const buffer of message.buffers) {\n",
              "            buffers.push(buffer);\n",
              "            downloaded += buffer.byteLength;\n",
              "            progress.value = downloaded;\n",
              "          }\n",
              "        }\n",
              "      }\n",
              "      const blob = new Blob(buffers, {type: 'application/binary'});\n",
              "      const a = document.createElement('a');\n",
              "      a.href = window.URL.createObjectURL(blob);\n",
              "      a.download = filename;\n",
              "      div.appendChild(a);\n",
              "      a.click();\n",
              "      div.remove();\n",
              "    }\n",
              "  "
            ],
            "text/plain": [
              "<IPython.core.display.Javascript object>"
            ]
          },
          "metadata": {
            "tags": []
          }
        },
        {
          "output_type": "display_data",
          "data": {
            "application/javascript": [
              "download(\"download_3f0f8637-610c-452b-a1c9-8900687b4300\", \"Casos_COVID-19_REGI\\u00d5ES_CEAR\\u00c1_2020.csv\", 838)"
            ],
            "text/plain": [
              "<IPython.core.display.Javascript object>"
            ]
          },
          "metadata": {
            "tags": []
          }
        },
        {
          "output_type": "display_data",
          "data": {
            "application/javascript": [
              "\n",
              "    async function download(id, filename, size) {\n",
              "      if (!google.colab.kernel.accessAllowed) {\n",
              "        return;\n",
              "      }\n",
              "      const div = document.createElement('div');\n",
              "      const label = document.createElement('label');\n",
              "      label.textContent = `Downloading \"${filename}\": `;\n",
              "      div.appendChild(label);\n",
              "      const progress = document.createElement('progress');\n",
              "      progress.max = size;\n",
              "      div.appendChild(progress);\n",
              "      document.body.appendChild(div);\n",
              "\n",
              "      const buffers = [];\n",
              "      let downloaded = 0;\n",
              "\n",
              "      const channel = await google.colab.kernel.comms.open(id);\n",
              "      // Send a message to notify the kernel that we're ready.\n",
              "      channel.send({})\n",
              "\n",
              "      for await (const message of channel.messages) {\n",
              "        // Send a message to notify the kernel that we're ready.\n",
              "        channel.send({})\n",
              "        if (message.buffers) {\n",
              "          for (const buffer of message.buffers) {\n",
              "            buffers.push(buffer);\n",
              "            downloaded += buffer.byteLength;\n",
              "            progress.value = downloaded;\n",
              "          }\n",
              "        }\n",
              "      }\n",
              "      const blob = new Blob(buffers, {type: 'application/binary'});\n",
              "      const a = document.createElement('a');\n",
              "      a.href = window.URL.createObjectURL(blob);\n",
              "      a.download = filename;\n",
              "      div.appendChild(a);\n",
              "      a.click();\n",
              "      div.remove();\n",
              "    }\n",
              "  "
            ],
            "text/plain": [
              "<IPython.core.display.Javascript object>"
            ]
          },
          "metadata": {
            "tags": []
          }
        },
        {
          "output_type": "display_data",
          "data": {
            "application/javascript": [
              "download(\"download_4ccdf8e3-12d7-4f00-b58f-57efc83078bd\", \"Casos_COVID-19_REGI\\u00d5ES_CEAR\\u00c1_2021.csv\", 837)"
            ],
            "text/plain": [
              "<IPython.core.display.Javascript object>"
            ]
          },
          "metadata": {
            "tags": []
          }
        },
        {
          "output_type": "display_data",
          "data": {
            "application/javascript": [
              "\n",
              "    async function download(id, filename, size) {\n",
              "      if (!google.colab.kernel.accessAllowed) {\n",
              "        return;\n",
              "      }\n",
              "      const div = document.createElement('div');\n",
              "      const label = document.createElement('label');\n",
              "      label.textContent = `Downloading \"${filename}\": `;\n",
              "      div.appendChild(label);\n",
              "      const progress = document.createElement('progress');\n",
              "      progress.max = size;\n",
              "      div.appendChild(progress);\n",
              "      document.body.appendChild(div);\n",
              "\n",
              "      const buffers = [];\n",
              "      let downloaded = 0;\n",
              "\n",
              "      const channel = await google.colab.kernel.comms.open(id);\n",
              "      // Send a message to notify the kernel that we're ready.\n",
              "      channel.send({})\n",
              "\n",
              "      for await (const message of channel.messages) {\n",
              "        // Send a message to notify the kernel that we're ready.\n",
              "        channel.send({})\n",
              "        if (message.buffers) {\n",
              "          for (const buffer of message.buffers) {\n",
              "            buffers.push(buffer);\n",
              "            downloaded += buffer.byteLength;\n",
              "            progress.value = downloaded;\n",
              "          }\n",
              "        }\n",
              "      }\n",
              "      const blob = new Blob(buffers, {type: 'application/binary'});\n",
              "      const a = document.createElement('a');\n",
              "      a.href = window.URL.createObjectURL(blob);\n",
              "      a.download = filename;\n",
              "      div.appendChild(a);\n",
              "      a.click();\n",
              "      div.remove();\n",
              "    }\n",
              "  "
            ],
            "text/plain": [
              "<IPython.core.display.Javascript object>"
            ]
          },
          "metadata": {
            "tags": []
          }
        },
        {
          "output_type": "display_data",
          "data": {
            "application/javascript": [
              "download(\"download_544cf034-ec1e-42b6-9740-d7323c75cab2\", \"Casos_COVID-19_MUNICIPIOS_CEAR\\u00c1_2020.csv\", 11882)"
            ],
            "text/plain": [
              "<IPython.core.display.Javascript object>"
            ]
          },
          "metadata": {
            "tags": []
          }
        },
        {
          "output_type": "display_data",
          "data": {
            "application/javascript": [
              "\n",
              "    async function download(id, filename, size) {\n",
              "      if (!google.colab.kernel.accessAllowed) {\n",
              "        return;\n",
              "      }\n",
              "      const div = document.createElement('div');\n",
              "      const label = document.createElement('label');\n",
              "      label.textContent = `Downloading \"${filename}\": `;\n",
              "      div.appendChild(label);\n",
              "      const progress = document.createElement('progress');\n",
              "      progress.max = size;\n",
              "      div.appendChild(progress);\n",
              "      document.body.appendChild(div);\n",
              "\n",
              "      const buffers = [];\n",
              "      let downloaded = 0;\n",
              "\n",
              "      const channel = await google.colab.kernel.comms.open(id);\n",
              "      // Send a message to notify the kernel that we're ready.\n",
              "      channel.send({})\n",
              "\n",
              "      for await (const message of channel.messages) {\n",
              "        // Send a message to notify the kernel that we're ready.\n",
              "        channel.send({})\n",
              "        if (message.buffers) {\n",
              "          for (const buffer of message.buffers) {\n",
              "            buffers.push(buffer);\n",
              "            downloaded += buffer.byteLength;\n",
              "            progress.value = downloaded;\n",
              "          }\n",
              "        }\n",
              "      }\n",
              "      const blob = new Blob(buffers, {type: 'application/binary'});\n",
              "      const a = document.createElement('a');\n",
              "      a.href = window.URL.createObjectURL(blob);\n",
              "      a.download = filename;\n",
              "      div.appendChild(a);\n",
              "      a.click();\n",
              "      div.remove();\n",
              "    }\n",
              "  "
            ],
            "text/plain": [
              "<IPython.core.display.Javascript object>"
            ]
          },
          "metadata": {
            "tags": []
          }
        },
        {
          "output_type": "display_data",
          "data": {
            "application/javascript": [
              "download(\"download_42a4ce6d-fbfa-4eee-9a93-5c8d15f151f3\", \"Casos_COVID-19_MUNICIPIOS_CEAR\\u00c1_2021.csv\", 12070)"
            ],
            "text/plain": [
              "<IPython.core.display.Javascript object>"
            ]
          },
          "metadata": {
            "tags": []
          }
        }
      ]
    },
    {
      "cell_type": "markdown",
      "metadata": {
        "id": "ugAL8CuJsURV"
      },
      "source": [
        "Exportando os **shapefiles**"
      ]
    },
    {
      "cell_type": "code",
      "metadata": {
        "colab": {
          "base_uri": "https://localhost:8080/"
        },
        "id": "ftczlghzkRHw",
        "outputId": "3fac35db-fdd8-47e9-9acd-ce3848f4f817"
      },
      "source": [
        "mapa_2020.to_file('Casos_COVID-19_CEARÁ_SHAPEFILE_2020.shp', index=False)\n",
        "files.download('Casos_COVID-19_CEARÁ_SHAPEFILE_2020.shp')\n",
        "files.download('Casos_COVID-19_CEARÁ_SHAPEFILE_2020.cpg')\n",
        "files.download('Casos_COVID-19_CEARÁ_SHAPEFILE_2020.dbf')\n",
        "files.download('Casos_COVID-19_CEARÁ_SHAPEFILE_2020.prj')\n",
        "files.download('Casos_COVID-19_CEARÁ_SHAPEFILE_2020.shx')\n",
        "\n",
        "mapa_2021.to_file('Casos_COVID-19_CEARÁ_SHAPEFILE_2021.shp', index=False)\n",
        "files.download('Casos_COVID-19_CEARÁ_SHAPEFILE_2021.shp')\n",
        "files.download('Casos_COVID-19_CEARÁ_SHAPEFILE_2021.cpg')\n",
        "files.download('Casos_COVID-19_CEARÁ_SHAPEFILE_2021.dbf')\n",
        "files.download('Casos_COVID-19_CEARÁ_SHAPEFILE_2021.prj')\n",
        "files.download('Casos_COVID-19_CEARÁ_SHAPEFILE_2021.shx')\n"
      ],
      "execution_count": null,
      "outputs": [
        {
          "output_type": "display_data",
          "data": {
            "application/javascript": [
              "\n",
              "    async function download(id, filename, size) {\n",
              "      if (!google.colab.kernel.accessAllowed) {\n",
              "        return;\n",
              "      }\n",
              "      const div = document.createElement('div');\n",
              "      const label = document.createElement('label');\n",
              "      label.textContent = `Downloading \"${filename}\": `;\n",
              "      div.appendChild(label);\n",
              "      const progress = document.createElement('progress');\n",
              "      progress.max = size;\n",
              "      div.appendChild(progress);\n",
              "      document.body.appendChild(div);\n",
              "\n",
              "      const buffers = [];\n",
              "      let downloaded = 0;\n",
              "\n",
              "      const channel = await google.colab.kernel.comms.open(id);\n",
              "      // Send a message to notify the kernel that we're ready.\n",
              "      channel.send({})\n",
              "\n",
              "      for await (const message of channel.messages) {\n",
              "        // Send a message to notify the kernel that we're ready.\n",
              "        channel.send({})\n",
              "        if (message.buffers) {\n",
              "          for (const buffer of message.buffers) {\n",
              "            buffers.push(buffer);\n",
              "            downloaded += buffer.byteLength;\n",
              "            progress.value = downloaded;\n",
              "          }\n",
              "        }\n",
              "      }\n",
              "      const blob = new Blob(buffers, {type: 'application/binary'});\n",
              "      const a = document.createElement('a');\n",
              "      a.href = window.URL.createObjectURL(blob);\n",
              "      a.download = filename;\n",
              "      div.appendChild(a);\n",
              "      a.click();\n",
              "      div.remove();\n",
              "    }\n",
              "  "
            ],
            "text/plain": [
              "<IPython.core.display.Javascript object>"
            ]
          },
          "metadata": {
            "tags": []
          }
        },
        {
          "output_type": "display_data",
          "data": {
            "application/javascript": [
              "download(\"download_cc67475e-056f-4890-be55-9cc36d240045\", \"Casos_COVID-19_CEAR\\u00c1_SHAPEFILE_2020.shp\", 1479240)"
            ],
            "text/plain": [
              "<IPython.core.display.Javascript object>"
            ]
          },
          "metadata": {
            "tags": []
          }
        },
        {
          "output_type": "display_data",
          "data": {
            "application/javascript": [
              "\n",
              "    async function download(id, filename, size) {\n",
              "      if (!google.colab.kernel.accessAllowed) {\n",
              "        return;\n",
              "      }\n",
              "      const div = document.createElement('div');\n",
              "      const label = document.createElement('label');\n",
              "      label.textContent = `Downloading \"${filename}\": `;\n",
              "      div.appendChild(label);\n",
              "      const progress = document.createElement('progress');\n",
              "      progress.max = size;\n",
              "      div.appendChild(progress);\n",
              "      document.body.appendChild(div);\n",
              "\n",
              "      const buffers = [];\n",
              "      let downloaded = 0;\n",
              "\n",
              "      const channel = await google.colab.kernel.comms.open(id);\n",
              "      // Send a message to notify the kernel that we're ready.\n",
              "      channel.send({})\n",
              "\n",
              "      for await (const message of channel.messages) {\n",
              "        // Send a message to notify the kernel that we're ready.\n",
              "        channel.send({})\n",
              "        if (message.buffers) {\n",
              "          for (const buffer of message.buffers) {\n",
              "            buffers.push(buffer);\n",
              "            downloaded += buffer.byteLength;\n",
              "            progress.value = downloaded;\n",
              "          }\n",
              "        }\n",
              "      }\n",
              "      const blob = new Blob(buffers, {type: 'application/binary'});\n",
              "      const a = document.createElement('a');\n",
              "      a.href = window.URL.createObjectURL(blob);\n",
              "      a.download = filename;\n",
              "      div.appendChild(a);\n",
              "      a.click();\n",
              "      div.remove();\n",
              "    }\n",
              "  "
            ],
            "text/plain": [
              "<IPython.core.display.Javascript object>"
            ]
          },
          "metadata": {
            "tags": []
          }
        },
        {
          "output_type": "display_data",
          "data": {
            "application/javascript": [
              "download(\"download_f37e9a91-c73e-4bd7-9023-a3aa6c111440\", \"Casos_COVID-19_CEAR\\u00c1_SHAPEFILE_2020.cpg\", 10)"
            ],
            "text/plain": [
              "<IPython.core.display.Javascript object>"
            ]
          },
          "metadata": {
            "tags": []
          }
        },
        {
          "output_type": "display_data",
          "data": {
            "application/javascript": [
              "\n",
              "    async function download(id, filename, size) {\n",
              "      if (!google.colab.kernel.accessAllowed) {\n",
              "        return;\n",
              "      }\n",
              "      const div = document.createElement('div');\n",
              "      const label = document.createElement('label');\n",
              "      label.textContent = `Downloading \"${filename}\": `;\n",
              "      div.appendChild(label);\n",
              "      const progress = document.createElement('progress');\n",
              "      progress.max = size;\n",
              "      div.appendChild(progress);\n",
              "      document.body.appendChild(div);\n",
              "\n",
              "      const buffers = [];\n",
              "      let downloaded = 0;\n",
              "\n",
              "      const channel = await google.colab.kernel.comms.open(id);\n",
              "      // Send a message to notify the kernel that we're ready.\n",
              "      channel.send({})\n",
              "\n",
              "      for await (const message of channel.messages) {\n",
              "        // Send a message to notify the kernel that we're ready.\n",
              "        channel.send({})\n",
              "        if (message.buffers) {\n",
              "          for (const buffer of message.buffers) {\n",
              "            buffers.push(buffer);\n",
              "            downloaded += buffer.byteLength;\n",
              "            progress.value = downloaded;\n",
              "          }\n",
              "        }\n",
              "      }\n",
              "      const blob = new Blob(buffers, {type: 'application/binary'});\n",
              "      const a = document.createElement('a');\n",
              "      a.href = window.URL.createObjectURL(blob);\n",
              "      a.download = filename;\n",
              "      div.appendChild(a);\n",
              "      a.click();\n",
              "      div.remove();\n",
              "    }\n",
              "  "
            ],
            "text/plain": [
              "<IPython.core.display.Javascript object>"
            ]
          },
          "metadata": {
            "tags": []
          }
        },
        {
          "output_type": "display_data",
          "data": {
            "application/javascript": [
              "download(\"download_31edc142-8826-4cb9-8927-38982fbaeb43\", \"Casos_COVID-19_CEAR\\u00c1_SHAPEFILE_2020.dbf\", 66746)"
            ],
            "text/plain": [
              "<IPython.core.display.Javascript object>"
            ]
          },
          "metadata": {
            "tags": []
          }
        },
        {
          "output_type": "display_data",
          "data": {
            "application/javascript": [
              "\n",
              "    async function download(id, filename, size) {\n",
              "      if (!google.colab.kernel.accessAllowed) {\n",
              "        return;\n",
              "      }\n",
              "      const div = document.createElement('div');\n",
              "      const label = document.createElement('label');\n",
              "      label.textContent = `Downloading \"${filename}\": `;\n",
              "      div.appendChild(label);\n",
              "      const progress = document.createElement('progress');\n",
              "      progress.max = size;\n",
              "      div.appendChild(progress);\n",
              "      document.body.appendChild(div);\n",
              "\n",
              "      const buffers = [];\n",
              "      let downloaded = 0;\n",
              "\n",
              "      const channel = await google.colab.kernel.comms.open(id);\n",
              "      // Send a message to notify the kernel that we're ready.\n",
              "      channel.send({})\n",
              "\n",
              "      for await (const message of channel.messages) {\n",
              "        // Send a message to notify the kernel that we're ready.\n",
              "        channel.send({})\n",
              "        if (message.buffers) {\n",
              "          for (const buffer of message.buffers) {\n",
              "            buffers.push(buffer);\n",
              "            downloaded += buffer.byteLength;\n",
              "            progress.value = downloaded;\n",
              "          }\n",
              "        }\n",
              "      }\n",
              "      const blob = new Blob(buffers, {type: 'application/binary'});\n",
              "      const a = document.createElement('a');\n",
              "      a.href = window.URL.createObjectURL(blob);\n",
              "      a.download = filename;\n",
              "      div.appendChild(a);\n",
              "      a.click();\n",
              "      div.remove();\n",
              "    }\n",
              "  "
            ],
            "text/plain": [
              "<IPython.core.display.Javascript object>"
            ]
          },
          "metadata": {
            "tags": []
          }
        },
        {
          "output_type": "display_data",
          "data": {
            "application/javascript": [
              "download(\"download_ee6c7f17-1ce2-4ddd-8a39-0151fb326758\", \"Casos_COVID-19_CEAR\\u00c1_SHAPEFILE_2020.prj\", 418)"
            ],
            "text/plain": [
              "<IPython.core.display.Javascript object>"
            ]
          },
          "metadata": {
            "tags": []
          }
        },
        {
          "output_type": "display_data",
          "data": {
            "application/javascript": [
              "\n",
              "    async function download(id, filename, size) {\n",
              "      if (!google.colab.kernel.accessAllowed) {\n",
              "        return;\n",
              "      }\n",
              "      const div = document.createElement('div');\n",
              "      const label = document.createElement('label');\n",
              "      label.textContent = `Downloading \"${filename}\": `;\n",
              "      div.appendChild(label);\n",
              "      const progress = document.createElement('progress');\n",
              "      progress.max = size;\n",
              "      div.appendChild(progress);\n",
              "      document.body.appendChild(div);\n",
              "\n",
              "      const buffers = [];\n",
              "      let downloaded = 0;\n",
              "\n",
              "      const channel = await google.colab.kernel.comms.open(id);\n",
              "      // Send a message to notify the kernel that we're ready.\n",
              "      channel.send({})\n",
              "\n",
              "      for await (const message of channel.messages) {\n",
              "        // Send a message to notify the kernel that we're ready.\n",
              "        channel.send({})\n",
              "        if (message.buffers) {\n",
              "          for (const buffer of message.buffers) {\n",
              "            buffers.push(buffer);\n",
              "            downloaded += buffer.byteLength;\n",
              "            progress.value = downloaded;\n",
              "          }\n",
              "        }\n",
              "      }\n",
              "      const blob = new Blob(buffers, {type: 'application/binary'});\n",
              "      const a = document.createElement('a');\n",
              "      a.href = window.URL.createObjectURL(blob);\n",
              "      a.download = filename;\n",
              "      div.appendChild(a);\n",
              "      a.click();\n",
              "      div.remove();\n",
              "    }\n",
              "  "
            ],
            "text/plain": [
              "<IPython.core.display.Javascript object>"
            ]
          },
          "metadata": {
            "tags": []
          }
        },
        {
          "output_type": "display_data",
          "data": {
            "application/javascript": [
              "download(\"download_87421944-2556-4c74-9609-7fe834d77478\", \"Casos_COVID-19_CEAR\\u00c1_SHAPEFILE_2020.shx\", 1572)"
            ],
            "text/plain": [
              "<IPython.core.display.Javascript object>"
            ]
          },
          "metadata": {
            "tags": []
          }
        },
        {
          "output_type": "display_data",
          "data": {
            "application/javascript": [
              "\n",
              "    async function download(id, filename, size) {\n",
              "      if (!google.colab.kernel.accessAllowed) {\n",
              "        return;\n",
              "      }\n",
              "      const div = document.createElement('div');\n",
              "      const label = document.createElement('label');\n",
              "      label.textContent = `Downloading \"${filename}\": `;\n",
              "      div.appendChild(label);\n",
              "      const progress = document.createElement('progress');\n",
              "      progress.max = size;\n",
              "      div.appendChild(progress);\n",
              "      document.body.appendChild(div);\n",
              "\n",
              "      const buffers = [];\n",
              "      let downloaded = 0;\n",
              "\n",
              "      const channel = await google.colab.kernel.comms.open(id);\n",
              "      // Send a message to notify the kernel that we're ready.\n",
              "      channel.send({})\n",
              "\n",
              "      for await (const message of channel.messages) {\n",
              "        // Send a message to notify the kernel that we're ready.\n",
              "        channel.send({})\n",
              "        if (message.buffers) {\n",
              "          for (const buffer of message.buffers) {\n",
              "            buffers.push(buffer);\n",
              "            downloaded += buffer.byteLength;\n",
              "            progress.value = downloaded;\n",
              "          }\n",
              "        }\n",
              "      }\n",
              "      const blob = new Blob(buffers, {type: 'application/binary'});\n",
              "      const a = document.createElement('a');\n",
              "      a.href = window.URL.createObjectURL(blob);\n",
              "      a.download = filename;\n",
              "      div.appendChild(a);\n",
              "      a.click();\n",
              "      div.remove();\n",
              "    }\n",
              "  "
            ],
            "text/plain": [
              "<IPython.core.display.Javascript object>"
            ]
          },
          "metadata": {
            "tags": []
          }
        },
        {
          "output_type": "display_data",
          "data": {
            "application/javascript": [
              "download(\"download_1a33a235-7735-4313-b277-7888f7df3a99\", \"Casos_COVID-19_CEAR\\u00c1_SHAPEFILE_2021.shp\", 1479240)"
            ],
            "text/plain": [
              "<IPython.core.display.Javascript object>"
            ]
          },
          "metadata": {
            "tags": []
          }
        },
        {
          "output_type": "display_data",
          "data": {
            "application/javascript": [
              "\n",
              "    async function download(id, filename, size) {\n",
              "      if (!google.colab.kernel.accessAllowed) {\n",
              "        return;\n",
              "      }\n",
              "      const div = document.createElement('div');\n",
              "      const label = document.createElement('label');\n",
              "      label.textContent = `Downloading \"${filename}\": `;\n",
              "      div.appendChild(label);\n",
              "      const progress = document.createElement('progress');\n",
              "      progress.max = size;\n",
              "      div.appendChild(progress);\n",
              "      document.body.appendChild(div);\n",
              "\n",
              "      const buffers = [];\n",
              "      let downloaded = 0;\n",
              "\n",
              "      const channel = await google.colab.kernel.comms.open(id);\n",
              "      // Send a message to notify the kernel that we're ready.\n",
              "      channel.send({})\n",
              "\n",
              "      for await (const message of channel.messages) {\n",
              "        // Send a message to notify the kernel that we're ready.\n",
              "        channel.send({})\n",
              "        if (message.buffers) {\n",
              "          for (const buffer of message.buffers) {\n",
              "            buffers.push(buffer);\n",
              "            downloaded += buffer.byteLength;\n",
              "            progress.value = downloaded;\n",
              "          }\n",
              "        }\n",
              "      }\n",
              "      const blob = new Blob(buffers, {type: 'application/binary'});\n",
              "      const a = document.createElement('a');\n",
              "      a.href = window.URL.createObjectURL(blob);\n",
              "      a.download = filename;\n",
              "      div.appendChild(a);\n",
              "      a.click();\n",
              "      div.remove();\n",
              "    }\n",
              "  "
            ],
            "text/plain": [
              "<IPython.core.display.Javascript object>"
            ]
          },
          "metadata": {
            "tags": []
          }
        },
        {
          "output_type": "display_data",
          "data": {
            "application/javascript": [
              "download(\"download_37cacb2f-ca96-4338-bb88-832818df29f1\", \"Casos_COVID-19_CEAR\\u00c1_SHAPEFILE_2021.cpg\", 10)"
            ],
            "text/plain": [
              "<IPython.core.display.Javascript object>"
            ]
          },
          "metadata": {
            "tags": []
          }
        },
        {
          "output_type": "display_data",
          "data": {
            "application/javascript": [
              "\n",
              "    async function download(id, filename, size) {\n",
              "      if (!google.colab.kernel.accessAllowed) {\n",
              "        return;\n",
              "      }\n",
              "      const div = document.createElement('div');\n",
              "      const label = document.createElement('label');\n",
              "      label.textContent = `Downloading \"${filename}\": `;\n",
              "      div.appendChild(label);\n",
              "      const progress = document.createElement('progress');\n",
              "      progress.max = size;\n",
              "      div.appendChild(progress);\n",
              "      document.body.appendChild(div);\n",
              "\n",
              "      const buffers = [];\n",
              "      let downloaded = 0;\n",
              "\n",
              "      const channel = await google.colab.kernel.comms.open(id);\n",
              "      // Send a message to notify the kernel that we're ready.\n",
              "      channel.send({})\n",
              "\n",
              "      for await (const message of channel.messages) {\n",
              "        // Send a message to notify the kernel that we're ready.\n",
              "        channel.send({})\n",
              "        if (message.buffers) {\n",
              "          for (const buffer of message.buffers) {\n",
              "            buffers.push(buffer);\n",
              "            downloaded += buffer.byteLength;\n",
              "            progress.value = downloaded;\n",
              "          }\n",
              "        }\n",
              "      }\n",
              "      const blob = new Blob(buffers, {type: 'application/binary'});\n",
              "      const a = document.createElement('a');\n",
              "      a.href = window.URL.createObjectURL(blob);\n",
              "      a.download = filename;\n",
              "      div.appendChild(a);\n",
              "      a.click();\n",
              "      div.remove();\n",
              "    }\n",
              "  "
            ],
            "text/plain": [
              "<IPython.core.display.Javascript object>"
            ]
          },
          "metadata": {
            "tags": []
          }
        },
        {
          "output_type": "display_data",
          "data": {
            "application/javascript": [
              "download(\"download_7adb61e4-0133-4b00-bb50-5e9778c2ce57\", \"Casos_COVID-19_CEAR\\u00c1_SHAPEFILE_2021.dbf\", 66746)"
            ],
            "text/plain": [
              "<IPython.core.display.Javascript object>"
            ]
          },
          "metadata": {
            "tags": []
          }
        },
        {
          "output_type": "display_data",
          "data": {
            "application/javascript": [
              "\n",
              "    async function download(id, filename, size) {\n",
              "      if (!google.colab.kernel.accessAllowed) {\n",
              "        return;\n",
              "      }\n",
              "      const div = document.createElement('div');\n",
              "      const label = document.createElement('label');\n",
              "      label.textContent = `Downloading \"${filename}\": `;\n",
              "      div.appendChild(label);\n",
              "      const progress = document.createElement('progress');\n",
              "      progress.max = size;\n",
              "      div.appendChild(progress);\n",
              "      document.body.appendChild(div);\n",
              "\n",
              "      const buffers = [];\n",
              "      let downloaded = 0;\n",
              "\n",
              "      const channel = await google.colab.kernel.comms.open(id);\n",
              "      // Send a message to notify the kernel that we're ready.\n",
              "      channel.send({})\n",
              "\n",
              "      for await (const message of channel.messages) {\n",
              "        // Send a message to notify the kernel that we're ready.\n",
              "        channel.send({})\n",
              "        if (message.buffers) {\n",
              "          for (const buffer of message.buffers) {\n",
              "            buffers.push(buffer);\n",
              "            downloaded += buffer.byteLength;\n",
              "            progress.value = downloaded;\n",
              "          }\n",
              "        }\n",
              "      }\n",
              "      const blob = new Blob(buffers, {type: 'application/binary'});\n",
              "      const a = document.createElement('a');\n",
              "      a.href = window.URL.createObjectURL(blob);\n",
              "      a.download = filename;\n",
              "      div.appendChild(a);\n",
              "      a.click();\n",
              "      div.remove();\n",
              "    }\n",
              "  "
            ],
            "text/plain": [
              "<IPython.core.display.Javascript object>"
            ]
          },
          "metadata": {
            "tags": []
          }
        },
        {
          "output_type": "display_data",
          "data": {
            "application/javascript": [
              "download(\"download_67c3e415-918a-4834-9854-d012deb32838\", \"Casos_COVID-19_CEAR\\u00c1_SHAPEFILE_2021.prj\", 418)"
            ],
            "text/plain": [
              "<IPython.core.display.Javascript object>"
            ]
          },
          "metadata": {
            "tags": []
          }
        },
        {
          "output_type": "display_data",
          "data": {
            "application/javascript": [
              "\n",
              "    async function download(id, filename, size) {\n",
              "      if (!google.colab.kernel.accessAllowed) {\n",
              "        return;\n",
              "      }\n",
              "      const div = document.createElement('div');\n",
              "      const label = document.createElement('label');\n",
              "      label.textContent = `Downloading \"${filename}\": `;\n",
              "      div.appendChild(label);\n",
              "      const progress = document.createElement('progress');\n",
              "      progress.max = size;\n",
              "      div.appendChild(progress);\n",
              "      document.body.appendChild(div);\n",
              "\n",
              "      const buffers = [];\n",
              "      let downloaded = 0;\n",
              "\n",
              "      const channel = await google.colab.kernel.comms.open(id);\n",
              "      // Send a message to notify the kernel that we're ready.\n",
              "      channel.send({})\n",
              "\n",
              "      for await (const message of channel.messages) {\n",
              "        // Send a message to notify the kernel that we're ready.\n",
              "        channel.send({})\n",
              "        if (message.buffers) {\n",
              "          for (const buffer of message.buffers) {\n",
              "            buffers.push(buffer);\n",
              "            downloaded += buffer.byteLength;\n",
              "            progress.value = downloaded;\n",
              "          }\n",
              "        }\n",
              "      }\n",
              "      const blob = new Blob(buffers, {type: 'application/binary'});\n",
              "      const a = document.createElement('a');\n",
              "      a.href = window.URL.createObjectURL(blob);\n",
              "      a.download = filename;\n",
              "      div.appendChild(a);\n",
              "      a.click();\n",
              "      div.remove();\n",
              "    }\n",
              "  "
            ],
            "text/plain": [
              "<IPython.core.display.Javascript object>"
            ]
          },
          "metadata": {
            "tags": []
          }
        },
        {
          "output_type": "display_data",
          "data": {
            "application/javascript": [
              "download(\"download_3633c7b7-3ff1-433c-9c6e-078b45ff6305\", \"Casos_COVID-19_CEAR\\u00c1_SHAPEFILE_2021.shx\", 1572)"
            ],
            "text/plain": [
              "<IPython.core.display.Javascript object>"
            ]
          },
          "metadata": {
            "tags": []
          }
        }
      ]
    },
    {
      "cell_type": "markdown",
      "metadata": {
        "id": "kAcCAuAnsm_c"
      },
      "source": [
        "Para ver as analises desses dataframes **(INSERIR O CLIQUE AQUI)**"
      ]
    },
    {
      "cell_type": "code",
      "metadata": {
        "colab": {
          "base_uri": "https://localhost:8080/",
          "height": 118
        },
        "id": "KW5KxOJTxKd2",
        "outputId": "82760cf5-89b7-4412-9951-24a7984f9535"
      },
      "source": [
        "dados_municipios.to_csv('Casos_COVID-19_MUNICIPIOS_CEARÁ.csv',index=False)\n",
        "files.download('Casos_COVID-19_MUNICIPIOS_CEARÁ.csv')\n",
        "\n",
        "mapa_total.to_file('Casos_COVID-19_CEARÁ_SHAPEFILE.shp', index=False)\n",
        "files.download('Casos_COVID-19_CEARÁ_SHAPEFILE.shp')\n",
        "files.download('Casos_COVID-19_CEARÁ_SHAPEFILE.cpg')\n",
        "files.download('Casos_COVID-19_CEARÁ_SHAPEFILE.dbf')\n",
        "files.download('Casos_COVID-19_CEARÁ_SHAPEFILE.prj')\n",
        "files.download('Casos_COVID-19_CEARÁ_SHAPEFILE.shx')"
      ],
      "execution_count": null,
      "outputs": [
        {
          "output_type": "display_data",
          "data": {
            "application/javascript": [
              "\n",
              "    async function download(id, filename, size) {\n",
              "      if (!google.colab.kernel.accessAllowed) {\n",
              "        return;\n",
              "      }\n",
              "      const div = document.createElement('div');\n",
              "      const label = document.createElement('label');\n",
              "      label.textContent = `Downloading \"${filename}\": `;\n",
              "      div.appendChild(label);\n",
              "      const progress = document.createElement('progress');\n",
              "      progress.max = size;\n",
              "      div.appendChild(progress);\n",
              "      document.body.appendChild(div);\n",
              "\n",
              "      const buffers = [];\n",
              "      let downloaded = 0;\n",
              "\n",
              "      const channel = await google.colab.kernel.comms.open(id);\n",
              "      // Send a message to notify the kernel that we're ready.\n",
              "      channel.send({})\n",
              "\n",
              "      for await (const message of channel.messages) {\n",
              "        // Send a message to notify the kernel that we're ready.\n",
              "        channel.send({})\n",
              "        if (message.buffers) {\n",
              "          for (const buffer of message.buffers) {\n",
              "            buffers.push(buffer);\n",
              "            downloaded += buffer.byteLength;\n",
              "            progress.value = downloaded;\n",
              "          }\n",
              "        }\n",
              "      }\n",
              "      const blob = new Blob(buffers, {type: 'application/binary'});\n",
              "      const a = document.createElement('a');\n",
              "      a.href = window.URL.createObjectURL(blob);\n",
              "      a.download = filename;\n",
              "      div.appendChild(a);\n",
              "      a.click();\n",
              "      div.remove();\n",
              "    }\n",
              "  "
            ],
            "text/plain": [
              "<IPython.core.display.Javascript object>"
            ]
          },
          "metadata": {
            "tags": []
          }
        },
        {
          "output_type": "display_data",
          "data": {
            "application/javascript": [
              "download(\"download_2e81ee55-5e97-4026-9742-60d487de38ce\", \"Casos_COVID-19_MUNICIPIOS_CEAR\\u00c1.csv\", 9024)"
            ],
            "text/plain": [
              "<IPython.core.display.Javascript object>"
            ]
          },
          "metadata": {
            "tags": []
          }
        },
        {
          "output_type": "display_data",
          "data": {
            "application/javascript": [
              "\n",
              "    async function download(id, filename, size) {\n",
              "      if (!google.colab.kernel.accessAllowed) {\n",
              "        return;\n",
              "      }\n",
              "      const div = document.createElement('div');\n",
              "      const label = document.createElement('label');\n",
              "      label.textContent = `Downloading \"${filename}\": `;\n",
              "      div.appendChild(label);\n",
              "      const progress = document.createElement('progress');\n",
              "      progress.max = size;\n",
              "      div.appendChild(progress);\n",
              "      document.body.appendChild(div);\n",
              "\n",
              "      const buffers = [];\n",
              "      let downloaded = 0;\n",
              "\n",
              "      const channel = await google.colab.kernel.comms.open(id);\n",
              "      // Send a message to notify the kernel that we're ready.\n",
              "      channel.send({})\n",
              "\n",
              "      for await (const message of channel.messages) {\n",
              "        // Send a message to notify the kernel that we're ready.\n",
              "        channel.send({})\n",
              "        if (message.buffers) {\n",
              "          for (const buffer of message.buffers) {\n",
              "            buffers.push(buffer);\n",
              "            downloaded += buffer.byteLength;\n",
              "            progress.value = downloaded;\n",
              "          }\n",
              "        }\n",
              "      }\n",
              "      const blob = new Blob(buffers, {type: 'application/binary'});\n",
              "      const a = document.createElement('a');\n",
              "      a.href = window.URL.createObjectURL(blob);\n",
              "      a.download = filename;\n",
              "      div.appendChild(a);\n",
              "      a.click();\n",
              "      div.remove();\n",
              "    }\n",
              "  "
            ],
            "text/plain": [
              "<IPython.core.display.Javascript object>"
            ]
          },
          "metadata": {
            "tags": []
          }
        },
        {
          "output_type": "display_data",
          "data": {
            "application/javascript": [
              "download(\"download_2240dbbf-3af2-4a72-a799-a57ac4f05904\", \"Casos_COVID-19_CEAR\\u00c1_SHAPEFILE.shp\", 1479240)"
            ],
            "text/plain": [
              "<IPython.core.display.Javascript object>"
            ]
          },
          "metadata": {
            "tags": []
          }
        },
        {
          "output_type": "display_data",
          "data": {
            "application/javascript": [
              "\n",
              "    async function download(id, filename, size) {\n",
              "      if (!google.colab.kernel.accessAllowed) {\n",
              "        return;\n",
              "      }\n",
              "      const div = document.createElement('div');\n",
              "      const label = document.createElement('label');\n",
              "      label.textContent = `Downloading \"${filename}\": `;\n",
              "      div.appendChild(label);\n",
              "      const progress = document.createElement('progress');\n",
              "      progress.max = size;\n",
              "      div.appendChild(progress);\n",
              "      document.body.appendChild(div);\n",
              "\n",
              "      const buffers = [];\n",
              "      let downloaded = 0;\n",
              "\n",
              "      const channel = await google.colab.kernel.comms.open(id);\n",
              "      // Send a message to notify the kernel that we're ready.\n",
              "      channel.send({})\n",
              "\n",
              "      for await (const message of channel.messages) {\n",
              "        // Send a message to notify the kernel that we're ready.\n",
              "        channel.send({})\n",
              "        if (message.buffers) {\n",
              "          for (const buffer of message.buffers) {\n",
              "            buffers.push(buffer);\n",
              "            downloaded += buffer.byteLength;\n",
              "            progress.value = downloaded;\n",
              "          }\n",
              "        }\n",
              "      }\n",
              "      const blob = new Blob(buffers, {type: 'application/binary'});\n",
              "      const a = document.createElement('a');\n",
              "      a.href = window.URL.createObjectURL(blob);\n",
              "      a.download = filename;\n",
              "      div.appendChild(a);\n",
              "      a.click();\n",
              "      div.remove();\n",
              "    }\n",
              "  "
            ],
            "text/plain": [
              "<IPython.core.display.Javascript object>"
            ]
          },
          "metadata": {
            "tags": []
          }
        },
        {
          "output_type": "display_data",
          "data": {
            "application/javascript": [
              "download(\"download_418bcd21-1224-4064-ad54-eef9181637b9\", \"Casos_COVID-19_CEAR\\u00c1_SHAPEFILE.cpg\", 10)"
            ],
            "text/plain": [
              "<IPython.core.display.Javascript object>"
            ]
          },
          "metadata": {
            "tags": []
          }
        },
        {
          "output_type": "display_data",
          "data": {
            "application/javascript": [
              "\n",
              "    async function download(id, filename, size) {\n",
              "      if (!google.colab.kernel.accessAllowed) {\n",
              "        return;\n",
              "      }\n",
              "      const div = document.createElement('div');\n",
              "      const label = document.createElement('label');\n",
              "      label.textContent = `Downloading \"${filename}\": `;\n",
              "      div.appendChild(label);\n",
              "      const progress = document.createElement('progress');\n",
              "      progress.max = size;\n",
              "      div.appendChild(progress);\n",
              "      document.body.appendChild(div);\n",
              "\n",
              "      const buffers = [];\n",
              "      let downloaded = 0;\n",
              "\n",
              "      const channel = await google.colab.kernel.comms.open(id);\n",
              "      // Send a message to notify the kernel that we're ready.\n",
              "      channel.send({})\n",
              "\n",
              "      for await (const message of channel.messages) {\n",
              "        // Send a message to notify the kernel that we're ready.\n",
              "        channel.send({})\n",
              "        if (message.buffers) {\n",
              "          for (const buffer of message.buffers) {\n",
              "            buffers.push(buffer);\n",
              "            downloaded += buffer.byteLength;\n",
              "            progress.value = downloaded;\n",
              "          }\n",
              "        }\n",
              "      }\n",
              "      const blob = new Blob(buffers, {type: 'application/binary'});\n",
              "      const a = document.createElement('a');\n",
              "      a.href = window.URL.createObjectURL(blob);\n",
              "      a.download = filename;\n",
              "      div.appendChild(a);\n",
              "      a.click();\n",
              "      div.remove();\n",
              "    }\n",
              "  "
            ],
            "text/plain": [
              "<IPython.core.display.Javascript object>"
            ]
          },
          "metadata": {
            "tags": []
          }
        },
        {
          "output_type": "display_data",
          "data": {
            "application/javascript": [
              "download(\"download_c9a0de57-0c67-4795-9c5b-0e53c9ffa9a2\", \"Casos_COVID-19_CEAR\\u00c1_SHAPEFILE.dbf\", 62298)"
            ],
            "text/plain": [
              "<IPython.core.display.Javascript object>"
            ]
          },
          "metadata": {
            "tags": []
          }
        },
        {
          "output_type": "display_data",
          "data": {
            "application/javascript": [
              "\n",
              "    async function download(id, filename, size) {\n",
              "      if (!google.colab.kernel.accessAllowed) {\n",
              "        return;\n",
              "      }\n",
              "      const div = document.createElement('div');\n",
              "      const label = document.createElement('label');\n",
              "      label.textContent = `Downloading \"${filename}\": `;\n",
              "      div.appendChild(label);\n",
              "      const progress = document.createElement('progress');\n",
              "      progress.max = size;\n",
              "      div.appendChild(progress);\n",
              "      document.body.appendChild(div);\n",
              "\n",
              "      const buffers = [];\n",
              "      let downloaded = 0;\n",
              "\n",
              "      const channel = await google.colab.kernel.comms.open(id);\n",
              "      // Send a message to notify the kernel that we're ready.\n",
              "      channel.send({})\n",
              "\n",
              "      for await (const message of channel.messages) {\n",
              "        // Send a message to notify the kernel that we're ready.\n",
              "        channel.send({})\n",
              "        if (message.buffers) {\n",
              "          for (const buffer of message.buffers) {\n",
              "            buffers.push(buffer);\n",
              "            downloaded += buffer.byteLength;\n",
              "            progress.value = downloaded;\n",
              "          }\n",
              "        }\n",
              "      }\n",
              "      const blob = new Blob(buffers, {type: 'application/binary'});\n",
              "      const a = document.createElement('a');\n",
              "      a.href = window.URL.createObjectURL(blob);\n",
              "      a.download = filename;\n",
              "      div.appendChild(a);\n",
              "      a.click();\n",
              "      div.remove();\n",
              "    }\n",
              "  "
            ],
            "text/plain": [
              "<IPython.core.display.Javascript object>"
            ]
          },
          "metadata": {
            "tags": []
          }
        },
        {
          "output_type": "display_data",
          "data": {
            "application/javascript": [
              "download(\"download_e3610674-9d35-44ff-b33e-e93679c2eba0\", \"Casos_COVID-19_CEAR\\u00c1_SHAPEFILE.prj\", 418)"
            ],
            "text/plain": [
              "<IPython.core.display.Javascript object>"
            ]
          },
          "metadata": {
            "tags": []
          }
        },
        {
          "output_type": "display_data",
          "data": {
            "application/javascript": [
              "\n",
              "    async function download(id, filename, size) {\n",
              "      if (!google.colab.kernel.accessAllowed) {\n",
              "        return;\n",
              "      }\n",
              "      const div = document.createElement('div');\n",
              "      const label = document.createElement('label');\n",
              "      label.textContent = `Downloading \"${filename}\": `;\n",
              "      div.appendChild(label);\n",
              "      const progress = document.createElement('progress');\n",
              "      progress.max = size;\n",
              "      div.appendChild(progress);\n",
              "      document.body.appendChild(div);\n",
              "\n",
              "      const buffers = [];\n",
              "      let downloaded = 0;\n",
              "\n",
              "      const channel = await google.colab.kernel.comms.open(id);\n",
              "      // Send a message to notify the kernel that we're ready.\n",
              "      channel.send({})\n",
              "\n",
              "      for await (const message of channel.messages) {\n",
              "        // Send a message to notify the kernel that we're ready.\n",
              "        channel.send({})\n",
              "        if (message.buffers) {\n",
              "          for (const buffer of message.buffers) {\n",
              "            buffers.push(buffer);\n",
              "            downloaded += buffer.byteLength;\n",
              "            progress.value = downloaded;\n",
              "          }\n",
              "        }\n",
              "      }\n",
              "      const blob = new Blob(buffers, {type: 'application/binary'});\n",
              "      const a = document.createElement('a');\n",
              "      a.href = window.URL.createObjectURL(blob);\n",
              "      a.download = filename;\n",
              "      div.appendChild(a);\n",
              "      a.click();\n",
              "      div.remove();\n",
              "    }\n",
              "  "
            ],
            "text/plain": [
              "<IPython.core.display.Javascript object>"
            ]
          },
          "metadata": {
            "tags": []
          }
        },
        {
          "output_type": "display_data",
          "data": {
            "application/javascript": [
              "download(\"download_b6e5216e-2769-4095-9b3a-f2166a58518a\", \"Casos_COVID-19_CEAR\\u00c1_SHAPEFILE.shx\", 1572)"
            ],
            "text/plain": [
              "<IPython.core.display.Javascript object>"
            ]
          },
          "metadata": {
            "tags": []
          }
        }
      ]
    },
    {
      "cell_type": "markdown",
      "metadata": {
        "id": "oP6XM75-eM8r"
      },
      "source": [
        "# Referencia\n",
        "\n"
      ]
    },
    {
      "cell_type": "markdown",
      "metadata": {
        "id": "wi7XRw_3RDlB"
      },
      "source": [
        "[01] - [Reportagem 1](https://diariodonordeste.verdesmares.com.br/regiao/todas-as-regioes-do-ceara-apresentaram-mais-mortes-por-covid-19-em-2021-que-2020-exceto-a-de-sobral-1.3096088) - *Todas as regiões do Ceará apresentaram mais mortes por Covid-19 em 2021 que 2020, exceto a de Sobral*\n",
        "\n",
        "[02] - [Reportagem 2](https://diariodonordeste.verdesmares.com.br/regiao/oros-implanta-medidas-restritivas-para-conter-covid-19-veda-aulas-presenciais-e-pontos-turisticos-1.3078419) - *Orós implanta medidas restritivas para conter Covid-19, veda aulas presenciais e pontos turísticos*\n",
        "\n",
        "[03] - [Reportagem 3](https://diariodonordeste.verdesmares.com.br/regiao/ico-tem-100-de-leitos-de-uti-lotados-desde-inicio-de-maio-1.3093287) - *Icó tem 100% de leitos de UTI lotados desde início de maio*\n",
        "\n",
        "[04] - [Reportagem 4](https://covidreference.com/timeline_pt) - *Linha do Tempo Covid-19 no mundo*\n",
        "\n",
        "[05] - [Reportagem 5](https://www.otempo.com.br/interessa/primeiro-caso-de-coronavirus-fora-da-asia-e-registrado-nos-eua-1.2287219) - *Primeiro caso de coronavírus fora da Ásia é registrado nos EUA*\n",
        "\n",
        "[06] - [Reportagem 6](https://g1.globo.com/ciencia-e-saude/noticia/2020/02/15/primeira-morte-ligada-ao-coronavirus-fora-da-asia-e-confirmada-na-franca.ghtml) - *Primeira morte ligada ao coronavírus fora da Ásia é confirmada na França*\n",
        "\n",
        "[07] - [Reportagem 7](https://g1.globo.com/sp/sao-paulo/noticia/2020/08/26/primeiro-caso-confirmado-de-covid-19-no-brasil-ocorreu-em-sp-e-completa-seis-meses-nesta-quarta.ghtml) - *Primeiro caso confirmado de Covid-19 no Brasil ocorreu em SP e completa seis meses nesta quarta*\n",
        "\n",
        "[08] - [Reportagem 8](https://www.conjur.com.br/2021-jan-13/bolsonaro-tentou-sabotar-combate-coronavirus-ong) - *Bolsonaro tentou sabotar combate ao coronavírus, diz Human Rights Watch*\n",
        "\n",
        "[09] - [Reportagem 9](https://www.uol.com.br/vivabem/noticias/agencia-estado/2021/06/22/preco-que-o-governo-pagou-por-vacina-indiana-covaxin-foi-1000-mais-alto.htm) - *Preço que o governo pagou por vacina indiana Covaxin foi 1000% mais alto*\n",
        "\n",
        "[10] -[Reportagem 10](https://g1.globo.com/ce/ceara/noticia/2020/03/15/tres-primeiros-casos-de-coronavirus-no-ceara-sao-confirmados-pela-secretaria-da-saude.ghtml) - *Três primeiros casos de coronavírus no Ceará são confirmados pela Secretaria da Saúde*\n",
        "\n",
        "[11] - [Reportagem 11](https://oglobo.globo.com/epoca/sociedade/ele-esta-incentivando-baderna-desabafo-de-enfermeira-apos-bolsonaro-pedir-que-seguidores-invadam-hospitais-24477843) - *'Ele está incentivando a baderna': o desabafo de enfermeira após Bolsonaro pedir que seguidores invadam hospitais*\n",
        "\n",
        "[12] - [Reportagem 12](https://g1.globo.com/ce/ceara/noticia/2021/05/09/casos-de-covid-19-no-ceara-em-9-de-maio-de-2021.ghtml) - *Ceará registra mais de 716 mil casos de Covid-19 e 18.538 óbitos pela doença*\n",
        "\n",
        "[13] - [Reportagem 13](https://www.sanarmed.com/linha-do-tempo-do-coronavirus-no-brasil) - *Linha do tempo do Coronavírus no Brasil*\n",
        "\n",
        "[14] - [Reportagem 14](https://www.cnnbrasil.com.br/saude/2021/06/07/rio-de-janeiro-82-mil-pessoas-nao-retornaram-para-tomar-segunda-dose-de-vacina)- *Rio de Janeiro: 82 mil pessoas não retornaram para tomar segunda dose de vacina*\n",
        "\n",
        "[15] - [Portal 1](https://covid.saude.gov.br/) - *Portal oficial do Covid*\n",
        "\n",
        "[16] - [Documento 1](https://www.ipece.ce.gov.br/wp-content/uploads/sites/45/2014/02/TD_111.pdf) - *IPECE - AS REGIÕES DE PLANEJAMENTO DO\n",
        "ESTADO DO CEARÁ *\n",
        "\n",
        "[17] - [Outros 1](https://stackoverflow.com/questions/63974040/line2d-object-has-no-property-column)- Transformando um DATAFRAME em GEODATAFRAME"
      ]
    }
  ]
}